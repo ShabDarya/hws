{
  "cells": [
    {
      "cell_type": "markdown",
      "metadata": {
        "id": "IDwJj79Ugr58"
      },
      "source": [
        "<center>\n",
        "<img src=\"https://raw.githubusercontent.com/FUlyankin/r_probability/master/end_seminars_2020/sem08/real_expect.png\" width=\"800\">\n",
        "\n",
        "# Домашнее задание 5: АБ-тест\n",
        "</center>"
      ]
    },
    {
      "cell_type": "markdown",
      "metadata": {
        "id": "XINx1Zbbgr59"
      },
      "source": [
        "**ФИО:** Шабаева Дарья Андреевна"
      ]
    },
    {
      "cell_type": "markdown",
      "metadata": {
        "id": "flFK5CIkgr59"
      },
      "source": [
        "## Общая информация\n",
        "\n",
        "__Дата выдачи:__ 07.04.2025\n",
        "\n",
        "__Дедлайн:__ 23:59MSK 20.04.2025"
      ]
    },
    {
      "cell_type": "code",
      "execution_count": 1,
      "metadata": {
        "id": "TvVGlmKBgr5-"
      },
      "outputs": [],
      "source": [
        "import numpy as np\n",
        "import matplotlib.pyplot as plt\n",
        "from scipy import stats\n",
        "from collections import defaultdict"
      ]
    },
    {
      "cell_type": "markdown",
      "metadata": {
        "id": "twCbdT3Lgr5-"
      },
      "source": [
        "На семинаре мы попытались разобраться как устроена процедура АБ-тестирования. В этом задании мы попытаемся закрепить полученные знания и более аккуратно структурировать их."
      ]
    },
    {
      "cell_type": "markdown",
      "metadata": {
        "id": "8dFracp6gr5-"
      },
      "source": [
        "### Кратко повторим теорию\n",
        "\n",
        "Мы хотим выктить новую функциональность на сайте. Перед раскаткой нам хочется проверить, какой эффект мы оказываем на пользователя. Выделим две выборки: тестовую (treatment) и контрольную (control). Тестовой покажем новый сайт. Контрольной старый. Замерим инетерсующую нас метрику, нааример, время проведенной на сайте, в обеих группах:\n",
        "\n",
        "$$\n",
        "\\begin{aligned}\n",
        "&X^c_1, \\ldots, X^c_{n_c} \\sim iid (\\mu_c, \\sigma^2_c) \\\\\n",
        "&X^t_1, \\ldots, X^t_{n_t} \\sim iid (\\mu_t, \\sigma^2_t)\n",
        "\\end{aligned}\n",
        "$$\n",
        "\n",
        "У выборок есть какие-то математические ожидания, дисперсии. Выборки собраны независимо друг от друга. Если их математические ожидания одинаковые, будем считать, что новая функциональность никак не повлияла на пользователей. Сформулируем это в виде нашей нулевой гипотезы:\n",
        "\n",
        "$$\n",
        "\\begin{aligned}\n",
        "&H_0: \\hspace{2mm} \\mu_c = \\mu_t \\\\\n",
        "&H_1: \\hspace{2mm} \\mu_c < \\mu_t.\n",
        "\\end{aligned}\n",
        "$$\n",
        "\n",
        "Посчитаем по выборке расстояние между математическими ожиданиями $\\hat \\mu_t - \\hat \\mu_c$. Оно по ЦПТ имеет нормальное распределение с оценкой дисперсии $\\frac{\\hat{\\sigma}^2_t}{n_t} + \\frac{\\hat{\\sigma}^2_c}{n_c}$. Получается, что\n",
        "\n",
        "$$\n",
        "z = \\frac{\\hat \\mu_t - \\hat \\mu_c}{\\sqrt{\\frac{\\hat{\\sigma}^2_t}{n_t} + \\frac{\\hat{\\sigma}^2_c}{n_c}}} \\sim N(0,1),\n",
        "$$\n",
        "\n",
        "при верности нулевой гипотезы и $n \\to \\infty$. Если это расстояние оказывается слишком большим, мы отказываемся верить в нулевую гипотезу. Эффект от новой функциональности есть. Будем сравнивать наблюдаемое значение $z$ с $z_{1 - \\alpha},$ где уровень значимости $\\alpha$ выберем до начала эксперимента.\n",
        "\n",
        "- Если $z < z_{1 - \\alpha},$ нулевая гипотеза не отвергается (похоже, что верна). Расстояние маленькое, разницы нет.\n",
        "- Если $z > z_{1 - \\alpha},$ выбираем альтернативу. У на есть значимый эффект на метрику, от веры в нулевую гипотезу придётся отказаться."
      ]
    },
    {
      "cell_type": "markdown",
      "metadata": {
        "id": "1xjI5ouFgr5-"
      },
      "source": [
        "> Ничего не понятно? Тогда вам в лекции. Ниже подборка:  \n",
        "\n",
        "- [Наша лекция про АБ]( )\n",
        "- [Неделя про проверку гипотез с курсеры](https://www.youtube.com/watch?v=Zv-5gbJtofk&list=PLCf-cQCe1FRxTgNPwcRSkBjvtE8DEm7rU)\n"
      ]
    },
    {
      "cell_type": "markdown",
      "metadata": {
        "id": "nQ0zslvRgr5-"
      },
      "source": [
        "## Задания\n"
      ]
    },
    {
      "cell_type": "markdown",
      "metadata": {
        "id": "M_T3pse2gr5-"
      },
      "source": [
        "__а) [1 балл]__ Реализуйте функцию для проверки гипотезы о равенстве математических ожиданий. Она должна принимать на вход две выборки и выдавать на выход наблюдаемое значение статистики `z_obs` и `p_value` для ситуаций с разными альтернативными гипотезами."
      ]
    },
    {
      "cell_type": "code",
      "execution_count": 93,
      "metadata": {
        "id": "LHleBExcgr5-"
      },
      "outputs": [],
      "source": [
        "def asy_mean_test(x_control, x_treatment, alternative = 'larger'):\n",
        "    mu_c = np.mean(x_control)\n",
        "    mu_t = np.mean(x_treatment)\n",
        "\n",
        "    var_c = np.std(x_control)\n",
        "    var_t = np.std(x_treatment, ddof= 1)\n",
        "\n",
        "    z_obs = (mu_t - mu_c) / np.sqrt((var_t ** 2 / len(x_treatment) + var_c ** 2 / len(x_control)))\n",
        "\n",
        "\n",
        "    if alternative == 'larger':\n",
        "        p_value = 1 - stats.norm.cdf(z_obs)\n",
        "    elif alternative == 'less':\n",
        "        p_value = stats.norm.cdf(z_obs)\n",
        "    else:\n",
        "        p_value = 2 * (1 - stats.norm.cdf(abs(z_obs)))\n",
        "\n",
        "    return z_obs, p_value"
      ]
    },
    {
      "cell_type": "markdown",
      "metadata": {
        "id": "C0_hlBawgr5_"
      },
      "source": [
        "Если вы написали весь код выше корректно, то строки ниже сработают без проблем."
      ]
    },
    {
      "cell_type": "code",
      "execution_count": 77,
      "metadata": {
        "id": "PVQaCbSOgr5_"
      },
      "outputs": [],
      "source": [
        "def gen_sample(n_obs, effect, p_control):\n",
        "    p_treatment = p_control * (1 + effect)\n",
        "    x_control = stats.bernoulli(p_control).rvs(n_obs)\n",
        "    x_treatment = stats.bernoulli(p_treatment).rvs(n_obs)\n",
        "    return x_control, x_treatment"
      ]
    },
    {
      "cell_type": "code",
      "execution_count": 94,
      "metadata": {
        "id": "gW2CXxw6gr5_"
      },
      "outputs": [],
      "source": [
        "# Проверка ситуации, когда верна нулевая гипотеза\n",
        "_, pval = asy_mean_test(*gen_sample(10**5, 0, 0.2))\n",
        "assert pval > 0.01"
      ]
    },
    {
      "cell_type": "code",
      "execution_count": 95,
      "metadata": {
        "id": "3KVbbo-7gr5_"
      },
      "outputs": [],
      "source": [
        "# Проверка ситуации, когда верна нулевая гипотеза\n",
        "_, pval = asy_mean_test(*gen_sample(10**5, 0.1, 0.2))\n",
        "assert pval < 0.01"
      ]
    },
    {
      "cell_type": "markdown",
      "metadata": {
        "id": "oPWD_pzogr5_"
      },
      "source": [
        "Для простоты мы дальше будем работать с односторонней альтернативой и тестом для долей.\n",
        "\n",
        "$$\n",
        "\\begin{aligned}\n",
        "&H_0: \\hspace{2mm} p_t = p_c \\\\\n",
        "&H_1: \\hspace{2mm} p_t > p_c\n",
        "\\end{aligned}\n",
        "$$"
      ]
    },
    {
      "cell_type": "markdown",
      "metadata": {
        "id": "SrBiiz_8gr5_"
      },
      "source": [
        "__б) [2 балла]__ Предположим, что нулевая гипотеза верна. Как при верности нулевой гипотезы будут распределены `pvalue` и `z_obs`?  \n",
        "\n",
        "С помощью симуляций сгенерируйте $10^4$ выборок размера $1000$, постройте две гистограммы."
      ]
    },
    {
      "cell_type": "code",
      "execution_count": 106,
      "metadata": {
        "id": "6qznXRSjgr5_"
      },
      "outputs": [],
      "source": [
        "import pandas as pd\n",
        "\n",
        "df = pd.DataFrame(columns = ['z_obs', 'pvalue'])"
      ]
    },
    {
      "cell_type": "code",
      "execution_count": 107,
      "metadata": {},
      "outputs": [],
      "source": [
        "for i in range(0, 10**4):\n",
        "    z, pval = asy_mean_test(*gen_sample(10**3, 0, 0.2))\n",
        "    df.loc[i] = {'z_obs': z, 'pvalue': pval}"
      ]
    },
    {
      "cell_type": "code",
      "execution_count": 108,
      "metadata": {},
      "outputs": [
        {
          "data": {
            "text/html": [
              "<div>\n",
              "<style scoped>\n",
              "    .dataframe tbody tr th:only-of-type {\n",
              "        vertical-align: middle;\n",
              "    }\n",
              "\n",
              "    .dataframe tbody tr th {\n",
              "        vertical-align: top;\n",
              "    }\n",
              "\n",
              "    .dataframe thead th {\n",
              "        text-align: right;\n",
              "    }\n",
              "</style>\n",
              "<table border=\"1\" class=\"dataframe\">\n",
              "  <thead>\n",
              "    <tr style=\"text-align: right;\">\n",
              "      <th></th>\n",
              "      <th>z_obs</th>\n",
              "      <th>pvalue</th>\n",
              "    </tr>\n",
              "  </thead>\n",
              "  <tbody>\n",
              "    <tr>\n",
              "      <th>0</th>\n",
              "      <td>-0.169437</td>\n",
              "      <td>0.567274</td>\n",
              "    </tr>\n",
              "    <tr>\n",
              "      <th>1</th>\n",
              "      <td>-0.223554</td>\n",
              "      <td>0.588448</td>\n",
              "    </tr>\n",
              "    <tr>\n",
              "      <th>2</th>\n",
              "      <td>1.828693</td>\n",
              "      <td>0.033723</td>\n",
              "    </tr>\n",
              "    <tr>\n",
              "      <th>3</th>\n",
              "      <td>-0.333475</td>\n",
              "      <td>0.630612</td>\n",
              "    </tr>\n",
              "    <tr>\n",
              "      <th>4</th>\n",
              "      <td>-1.061182</td>\n",
              "      <td>0.855696</td>\n",
              "    </tr>\n",
              "    <tr>\n",
              "      <th>...</th>\n",
              "      <td>...</td>\n",
              "      <td>...</td>\n",
              "    </tr>\n",
              "    <tr>\n",
              "      <th>9995</th>\n",
              "      <td>-0.614251</td>\n",
              "      <td>0.730475</td>\n",
              "    </tr>\n",
              "    <tr>\n",
              "      <th>9996</th>\n",
              "      <td>0.706889</td>\n",
              "      <td>0.239818</td>\n",
              "    </tr>\n",
              "    <tr>\n",
              "      <th>9997</th>\n",
              "      <td>-0.442227</td>\n",
              "      <td>0.670838</td>\n",
              "    </tr>\n",
              "    <tr>\n",
              "      <th>9998</th>\n",
              "      <td>-0.114905</td>\n",
              "      <td>0.545740</td>\n",
              "    </tr>\n",
              "    <tr>\n",
              "      <th>9999</th>\n",
              "      <td>-1.166467</td>\n",
              "      <td>0.878287</td>\n",
              "    </tr>\n",
              "  </tbody>\n",
              "</table>\n",
              "<p>10000 rows × 2 columns</p>\n",
              "</div>"
            ],
            "text/plain": [
              "         z_obs    pvalue\n",
              "0    -0.169437  0.567274\n",
              "1    -0.223554  0.588448\n",
              "2     1.828693  0.033723\n",
              "3    -0.333475  0.630612\n",
              "4    -1.061182  0.855696\n",
              "...        ...       ...\n",
              "9995 -0.614251  0.730475\n",
              "9996  0.706889  0.239818\n",
              "9997 -0.442227  0.670838\n",
              "9998 -0.114905  0.545740\n",
              "9999 -1.166467  0.878287\n",
              "\n",
              "[10000 rows x 2 columns]"
            ]
          },
          "execution_count": 108,
          "metadata": {},
          "output_type": "execute_result"
        }
      ],
      "source": [
        "df"
      ]
    },
    {
      "cell_type": "code",
      "execution_count": null,
      "metadata": {},
      "outputs": [
        {
          "data": {
            "image/png": "[encoded data removed]",
            "text/plain": [
              "<Figure size 640x480 with 1 Axes>"
            ]
          },
          "metadata": {},
          "output_type": "display_data"
        }
      ],
      "source": [
        "plt.hist(df['z_obs'], bins = 50)\n",
        "plt.title('Распределение z_obs:')\n",
        "plt.xlabel('Значение статистики Z_obs')\n",
        "plt.ylabel('Количество')\n",
        "plt.show()"
      ]
    },
    {
      "cell_type": "code",
      "execution_count": 119,
      "metadata": {},
      "outputs": [
        {
          "data": {
            "image/png": "[encoded data removed]",
            "text/plain": [
              "<Figure size 640x480 with 1 Axes>"
            ]
          },
          "metadata": {},
          "output_type": "display_data"
        }
      ],
      "source": [
        "plt.hist(df['pvalue'], bins = 45)\n",
        "plt.title('Распределение p_value:')\n",
        "plt.xlabel('Значение p_value')\n",
        "plt.ylabel('Количество')\n",
        "plt.show()"
      ]
    },
    {
      "cell_type": "code",
      "execution_count": 120,
      "metadata": {},
      "outputs": [
        {
          "data": {
            "text/plain": [
              "0.006204864690789232"
            ]
          },
          "execution_count": 120,
          "metadata": {},
          "output_type": "execute_result"
        }
      ],
      "source": [
        "np.mean(df['z_obs'])"
      ]
    },
    {
      "cell_type": "markdown",
      "metadata": {
        "id": "dN9AnIZogr5_"
      },
      "source": [
        "Правда ли, что распределение `pvalue` оказалось равномерным на отрезке $[0;1]$? Какое у распределения `z_obs` математическое ожидание? Попытайтесь понятными словами пояснить, почему распределения оказались именно такими."
      ]
    },
    {
      "cell_type": "markdown",
      "metadata": {},
      "source": [
        "__Ответ:__ p_value оказалось равномерное. Мат. ожидание у z_obs оказалось равно 0.006.\n",
        "\n",
        "При верности нулевой гипотезы z будет распределена нормально то 0 до 1. Поэтому значения z_obs оказались номально распределены. p_value - вероятность, что наша статистика примет тоже или более экстримальное значение при верности H0. Так как z имеет нормальное распределение, то вероятность может принимать любое значение от 0 до 1, на него ничего не влияет."
      ]
    },
    {
      "cell_type": "markdown",
      "metadata": {
        "id": "2nLOpmL0gr5_"
      },
      "source": [
        "__в) [1 балл]__ Предположим, что верна альтернативная гипотеза. Доля в тестовой (treatment) выборке оказалась на $20\\%$ больше, чем в контрольной. Как при верности нулевой гипотезы будут распределены `pvalue` и `z_obs`?  \n",
        "\n",
        "С помощью симуляций сгенерируйте $10^4$ выборок размера $1000$, постройте две гистограммы и прокомментируйте получившиеся результаты."
      ]
    },
    {
      "cell_type": "code",
      "execution_count": 121,
      "metadata": {
        "id": "gshgPxX4gr5_"
      },
      "outputs": [],
      "source": [
        "df1 = pd.DataFrame(columns = ['z_obs', 'pvalue'])\n",
        "\n",
        "for i in range(0, 10**4):\n",
        "    z, pval = asy_mean_test(*gen_sample(10**3, 0.2, 0.2))\n",
        "    df1.loc[i] = {'z_obs': z, 'pvalue': pval}"
      ]
    },
    {
      "cell_type": "code",
      "execution_count": null,
      "metadata": {},
      "outputs": [
        {
          "data": {
            "image/png": "[encoded data removed]",
            "text/plain": [
              "<Figure size 640x480 with 1 Axes>"
            ]
          },
          "metadata": {},
          "output_type": "display_data"
        }
      ],
      "source": [
        "plt.hist(df1['z_obs'], bins = 50)\n",
        "plt.title('Распределение z_obs:')\n",
        "plt.xlabel('Значение статистики Z_obs')\n",
        "plt.ylabel('Количество')\n",
        "plt.show()"
      ]
    },
    {
      "cell_type": "code",
      "execution_count": 127,
      "metadata": {},
      "outputs": [
        {
          "data": {
            "image/png": "[encoded data removed]",
            "text/plain": [
              "<Figure size 640x480 with 1 Axes>"
            ]
          },
          "metadata": {},
          "output_type": "display_data"
        }
      ],
      "source": [
        "plt.hist(df1['pvalue'], bins = 30)\n",
        "plt.title('Распределение p_value:')\n",
        "plt.xlabel('Значение p_value')\n",
        "plt.ylabel('Количество')\n",
        "plt.show()"
      ]
    },
    {
      "cell_type": "markdown",
      "metadata": {},
      "source": [
        "Верная альтернативаная гипотеза, поэтому значения z оказались сдвинуты на 2 вправо, а pvalue не равномерно распределена."
      ]
    },
    {
      "cell_type": "markdown",
      "metadata": {
        "id": "B8BOGJ_Tgr5_"
      },
      "source": [
        "А как будут выглядеть результаты, если доля в тестовой выборке больше на $40\\%$? Проведите симуляции."
      ]
    },
    {
      "cell_type": "code",
      "execution_count": 124,
      "metadata": {
        "id": "wbM-oiubgr5_"
      },
      "outputs": [],
      "source": [
        "df2 = pd.DataFrame(columns = ['z_obs', 'pvalue'])\n",
        "\n",
        "for i in range(0, 10**4):\n",
        "    z, pval = asy_mean_test(*gen_sample(10**3, 0.4, 0.2))\n",
        "    df2.loc[i] = {'z_obs': z, 'pvalue': pval}"
      ]
    },
    {
      "cell_type": "code",
      "execution_count": 125,
      "metadata": {},
      "outputs": [
        {
          "data": {
            "image/png": "[encoded data removed]",
            "text/plain": [
              "<Figure size 640x480 with 1 Axes>"
            ]
          },
          "metadata": {},
          "output_type": "display_data"
        }
      ],
      "source": [
        "plt.hist(df2['z_obs'], bins = 50)\n",
        "plt.title('Распределение z_obs:')\n",
        "plt.xlabel('Значение статистики Z_obs')\n",
        "plt.ylabel('Количество')\n",
        "plt.show()"
      ]
    },
    {
      "cell_type": "code",
      "execution_count": 134,
      "metadata": {},
      "outputs": [
        {
          "data": {
            "image/png": "[encoded data removed]",
            "text/plain": [
              "<Figure size 640x480 with 1 Axes>"
            ]
          },
          "metadata": {},
          "output_type": "display_data"
        }
      ],
      "source": [
        "plt.hist(df2['pvalue'], bins = 30)\n",
        "plt.title('Распределение p_value:')\n",
        "plt.xlabel('Значение p_value')\n",
        "plt.ylabel('Количество')\n",
        "plt.show()"
      ]
    },
    {
      "cell_type": "markdown",
      "metadata": {
        "id": "GCVBHBvOgr5_"
      },
      "source": [
        "Правда ли, что распределение `pvalue` оказалось равномерным на отрезке $[0;1]$? Какое у распределения `z_obs` математическое ожидание? Попытайтесь понятными словами пояснить, почему распределения оказались именно такими."
      ]
    },
    {
      "cell_type": "code",
      "execution_count": 136,
      "metadata": {},
      "outputs": [
        {
          "name": "stdout",
          "output_type": "stream",
          "text": [
            "2.1678162165854507\n",
            "4.217180708796151\n"
          ]
        }
      ],
      "source": [
        "print(np.mean(df1['z_obs']))\n",
        "print(np.mean(df2['z_obs']))"
      ]
    },
    {
      "cell_type": "markdown",
      "metadata": {
        "id": "o8rCPAHJgr5_"
      },
      "source": [
        "__Ответ:__ распределение pvalue неравномерное. Чем больше тестовая выборка, тем она становится более выпуклая. Мат ожидание z_obs также зависит от разницы размера тестовой выборки. Когда выборки были равны, то мат. ожидание было равно около 0, когда увеличили на 40% больше, то мат ожидание стало на 4 больше.\n",
        "\n",
        "pvalue имеет такое распределение, так как чем дальше график от 0, тем маньше вероятность того, что статистика примет то же или более экстречальное значение при верности нулевой гипотезы."
      ]
    },
    {
      "cell_type": "markdown",
      "metadata": {
        "id": "fq3su5kogr5_"
      },
      "source": [
        "__г) [1 балл]__ Обычно, перед началом эксперимента, мы фиксируем ошибку первого рода, вероятность отвергнуть нулевую гипотезу, когда она на самом деле верна,  \n",
        "\n",
        "$$\\alpha = \\mathbb{P}(H_A \\text{ выбрана} \\mid H_0 \\text{ верна}).$$\n",
        "\n",
        "Дальше мы принимаем решение, о том, какую гипотезу выбрать, сравнивая `z_obs` с $z_{1 - \\alpha},$ либо `pvalue` с $\\alpha$ (напомню что мы делаем симуляции для правосторонней альтернативы, поэтому $\\alpha$ не надо делить на два).\n",
        "\n",
        "Давайте проверим для конкретного $\\alpha$, что это правда работает. Выберите любое разумное значение $\\alpha$. С помощью симуляций сгенерируйте $10^4$ выборок размера $1000$ при верности нулевой гипотезы. Проверьте эти гипотезы и оцените получившееся значение $\\alpha$. Правда ли, что оно оказалось равно заявленному значению?\n",
        "\n",
        "__P.S.__ в идеале, тут надо воспользоваться уже проделанными выше симуляциями."
      ]
    },
    {
      "cell_type": "code",
      "execution_count": null,
      "metadata": {
        "id": "4zzTqSORgr5_"
      },
      "outputs": [],
      "source": [
        "# ваш код"
      ]
    },
    {
      "cell_type": "markdown",
      "metadata": {
        "id": "am0pYcsdgr5_"
      },
      "source": [
        "Кроме ошибки первого рода есть ещё и ошибка второго рода, вероятность остаться с нулевой гипотезой, когда верна альтернатива,\n",
        "\n",
        "$$\\beta = \\mathbb{P}(H_0 \\text{ выбрана} \\mid H_A \\text{ верна}).$$\n",
        "\n",
        "Давайте предположим, что доля в тестовой (treatment) выборке оказалась на $20\\%$ больше, чем в контрольной. С помощью симуляций того же самого объёма оцените, чему равна $\\beta$.\n",
        "\n",
        "__P.S.__ в идеале, тут надо воспользоваться уже проделанными выше симуляциями."
      ]
    },
    {
      "cell_type": "code",
      "execution_count": null,
      "metadata": {
        "id": "Awt6EF7Agr5_"
      },
      "outputs": [],
      "source": [
        "# ваш код"
      ]
    },
    {
      "cell_type": "markdown",
      "metadata": {
        "id": "GfE8xtcbgr6A"
      },
      "source": [
        "Теперь доля в тестовой выборке оказалась на $40\\%$ больше, чем в контрольной. Чем равна $\\beta$ здесь?"
      ]
    },
    {
      "cell_type": "code",
      "execution_count": null,
      "metadata": {
        "id": "TzoiogFjgr6A"
      },
      "outputs": [],
      "source": [
        "# ваш код"
      ]
    },
    {
      "cell_type": "markdown",
      "metadata": {
        "id": "kjApoQ5ogr6A"
      },
      "source": [
        "Что с ошибкой второго рода происходит при росте эффекта? Что происходит с ней, если при проверке гипотезы взять более маленькое $\\alpha$?\n",
        "\n",
        "__Ответ:__"
      ]
    },
    {
      "cell_type": "markdown",
      "metadata": {
        "id": "KXExrYGTgr6A"
      },
      "source": [
        "__д) [1 балл]__ Ошибки $\\alpha$ и $\\beta$ связаны между собой. Чем выше, при фиксированном размере выборки и эффекта мы делаем одну, тем ниже другая. Давайте попробуем в рамках проделанных выше симуляций нарисовать взаимосвязь между ошибками.\n",
        "\n",
        "Выше, для оценки $\\beta$ вы сравнивали вектор `pval` с зафиксированным значением `alpha`.  Переберите `alpha` по циклу от 0 до 1 с шагом 0.01 и оцените для каждого значения `alpha` значение `beta`.\n",
        "\n",
        "Нарисуйте получившуюся взаимосвязь на графике для эффекта в 20% и 40%. Какая из кривых идёт ниже?"
      ]
    },
    {
      "cell_type": "code",
      "execution_count": null,
      "metadata": {
        "id": "Meei42N_gr6A"
      },
      "outputs": [],
      "source": [
        "# ваш код"
      ]
    },
    {
      "cell_type": "markdown",
      "metadata": {
        "id": "sVMLWXWegr6A"
      },
      "source": [
        "Нарисуйте точно такую же кривую для ситуации, когда была верна нулевая гипотеза."
      ]
    },
    {
      "cell_type": "code",
      "execution_count": null,
      "metadata": {
        "id": "lPBYlUdDgr6A"
      },
      "outputs": [],
      "source": [
        "# ваш код"
      ]
    },
    {
      "cell_type": "markdown",
      "metadata": {
        "id": "jIT5O42ugr6A"
      },
      "source": [
        "Вместо осей $(\\alpha, \\beta)$ обычно такой график рисуют в осях $(\\alpha, 1 - \\beta)$. Давайте построим его и проинтерпретируем."
      ]
    },
    {
      "cell_type": "code",
      "execution_count": null,
      "metadata": {
        "id": "uIEk-7Aogr6A"
      },
      "outputs": [],
      "source": [
        "def plot_pvalue_distribution(dict_pvalues):\n",
        "    xseq = np.linspace(0, 1, 1000)\n",
        "\n",
        "    for key, pvalues in dict_pvalues.items():\n",
        "        yseq = [np.mean(pvalues < x) for x in xseq]\n",
        "        plt.plot(xseq, yseq, label=key)\n",
        "\n",
        "    plt.plot([0, 1], [0, 1], '--k', alpha=0.8)\n",
        "    plt.title('Распределение p-value/ROC-кривая', size=16)\n",
        "    plt.xlabel('alpha', size=12)\n",
        "    plt.ylabel('1 - beta', size=12)\n",
        "    plt.legend(fontsize=12)\n",
        "    plt.grid()"
      ]
    },
    {
      "cell_type": "markdown",
      "metadata": {
        "id": "g8_1_KY2gr6A"
      },
      "source": [
        "Заполните пропуски в коде ниже, чтобы для нашего АБ-теста отрисовались ROC-кривые."
      ]
    },
    {
      "cell_type": "code",
      "execution_count": null,
      "metadata": {
        "id": "aVid_zWDgr6E",
        "outputId": "1b2ffb6d-4600-499e-c4f2-b08d8c316ff1"
      },
      "outputs": [
        {
          "data": {
            "image/png": "[encoded data removed]",
            "text/plain": [
              "<Figure size 640x480 with 1 Axes>"
            ]
          },
          "metadata": {},
          "output_type": "display_data"
        }
      ],
      "source": [
        "n_sim = 10**4\n",
        "sample_size = 1000\n",
        "\n",
        "dict_pvalues = defaultdict(list)\n",
        "for _ in range(n_sim):\n",
        "\n",
        "    x_control, x_treatment = ...\n",
        "    z_obs_ab, pval_ab = ...\n",
        "\n",
        "    # сгенерируем ещё одну тестовую выборку, чтобы убедиться, что в случае когда выборки совпали,\n",
        "    # наш тест работает корректно и не находит разницу\n",
        "    x_control_again, _ = ...\n",
        "    z_obs_aa, pval_aa = ...\n",
        "\n",
        "    x_control_again, _ = gen_sample(1000, 0, 0.2)\n",
        "    z_obs_aa, pval_aa = asy_mean_test(x_control, x_control_again)\n",
        "\n",
        "    dict_pvalues['ztest A/A'].append(pval_aa)\n",
        "    dict_pvalues['ztest A/B'].append(pval_ab)\n",
        "\n",
        "plot_pvalue_distribution(dict_pvalues)"
      ]
    },
    {
      "cell_type": "markdown",
      "metadata": {
        "id": "1GqhNYq0gr6E"
      },
      "source": [
        "Получившийся график можно проинтерпретировать двумя способами. Мы много-много раз проводим АБ-тест. В начале теста мы зафиксировали какую-то $\\alpha$ и дальше проверяем кучу гипотез.\n",
        "\n",
        "1. Линия `ztest A/A` это функция распределения pvalue при верности нулевой гипотезы. Оно было равномерным, мы двигаем $\\alpha$ по оси $OX$ и оцениваем $\\mathbb{P}(\\text{pvalue} \\le \\alpha) = F(\\alpha)$.  \n",
        "\n",
        "По аналогии, линия `ztest A/B` это функция распределения pvalue при верности альтернативной гипотезы.\n",
        "\n",
        "2. Линию `ztest A/B` можно проинтерпретировать как ROC-кривую. Если вы уже знаете про задачу классификации из машинного обучения, то это ровно оно. Полнота это $1 - \\beta$, то есть то, сколько верных альтернативных гипотез мы найдём, если будем использовать наш АБ-тест, FPR это $\\alpha$, то есть то, сколько верных нулевых гипотез мы заберём с собой в альтернативные. Эту величину мы определяем до старта эксперимента.\n",
        "\n",
        "> Важно: если вы не поняли интерпретацию из пункта 2, просто забейте. Заботаете МО, поймёте. Интерпретацию из пункта 1 должны понять все. Если вы её не поняли, время напрячься и подумать ещё разок."
      ]
    },
    {
      "cell_type": "markdown",
      "metadata": {
        "id": "ksFHZCYKgr6E"
      },
      "source": [
        "__Что для нас важно:__\n",
        "\n",
        "- Чем выпуклее график, тем лучше мы находим эффект и процедура проверки гипотезы работае корректно;\n",
        "- Чем больше у нас наблюдений тем выпуклее график;\n",
        "- Чем сильнее в тестовой выборке подскакивает $p_t$ при изменениях, тем легче нам найти эффект и тем выпуклее график;\n",
        "- Если $p_t$ подскочило на очень маленькую величину, нам сложнее найти это изменение, и график будет менее выпуклым;\n",
        "- Чем меньше в выборках дисперсия, тем выпуклее график."
      ]
    },
    {
      "cell_type": "markdown",
      "metadata": {
        "id": "SOxzS7VOgr6E"
      },
      "source": [
        "__е) [2 балла]__ При верности альтернативной гипотезы, постройте ROC-кривые из пункта выше для разного числа наблюдений в выборке: 10, 100, 1000, 10000 при любом фиксированном эффекте."
      ]
    },
    {
      "cell_type": "code",
      "execution_count": null,
      "metadata": {
        "id": "7NKhj2XUgr6E"
      },
      "outputs": [],
      "source": [
        "# ваш код"
      ]
    },
    {
      "cell_type": "markdown",
      "metadata": {
        "id": "lNZd0NOXgr6E"
      },
      "source": [
        "__ё) [1 балл]__ Количество наблюдений, ошибка 1 и 2 рода, размер эффекта, который мы ищем и дисперсия в выборках связаны между собой. Для некоторых критериев проверки гипотез можно вывести формулы, которые их связывают.\n",
        "\n",
        "В данном случае, формула для расчета числа наблюдений _для одной группы_ выглядит вот так:\n",
        "\n",
        "$$\n",
        "n_{\\text{one group}} = \\frac{(\\sigma_A^2 + \\sigma_B^2) \\cdot (z_{1-\\frac{\\alpha}{2}} + z_{1-\\beta})^2}{MDE^2},\n",
        "$$"
      ]
    },
    {
      "cell_type": "markdown",
      "metadata": {
        "id": "NXsJihWcgr6E"
      },
      "source": [
        "В приложении Яндекс.Такси в конце поездки вылезают рандомные опросники. В одном из опросников задаётся вопрос «А вы пристёгивались, когда ехали?»\n",
        "\n",
        "В России, в день, в Такси происходит 1 миллион заказов. Вопрос про ремни задаётся рандомным 10% пользователей, закончивших поездку. Пользователь не игнорирует опросник и отвечает на него да или нет с вероятностью 5% (цифры взяты из головы и не отражают реальную статистику).\n",
        "\n",
        "Менеджер Екатерина хочет сделать так, чтобы когда пассажир садится в машину, Алиса просила его пристегнуться. Хочется замерить, какой эффект это даст на пристёгивания. Станут ли люди чаще пристёгиваться. Замерять мы это будем опросником. Сейчас 10% пользователей говорят, что пристегнулись.\n",
        "\n",
        "Екатерина пришла к вам и между вами состоялся следующий диалог:\n",
        "\n",
        "- Хочу АБ-тест с разбивкой 50 на 50.\n",
        "- Какие ошибки 1 и 2 рода хочешь?\n",
        "- Нулевые.\n",
        "- Нам надо бесконечно наблюдений, готова столько ждать?\n",
        "- Нет.\n",
        "- На сколько мы хотим, чтобы выросла доля ответов да?\n",
        "- Если подрастёт хотябы на процент, будет круто.\n",
        "- То есть если меньше процента, такой эффект считаем неудачей и отсутствием изменения?\n",
        "- Да.\n",
        "- Давай я нарисую тебе табличку с разными ошибками, а внутри на пересечении напишу сколько дней надо ждать, чтобы найти такой минимальный эффект.\n",
        "- Давай, по ней и примем решение."
      ]
    },
    {
      "cell_type": "markdown",
      "metadata": {
        "id": "igZjFymngr6E"
      },
      "source": [
        "Нарисуйте для Екатерины такую табличку. Не забудьте перевести общее количество наблюдений в дни."
      ]
    },
    {
      "cell_type": "code",
      "execution_count": null,
      "metadata": {
        "id": "PQ-5GM97gr6E"
      },
      "outputs": [],
      "source": [
        "# Ваш код"
      ]
    },
    {
      "cell_type": "markdown",
      "metadata": {
        "id": "-KsUP0Wlgr6E"
      },
      "source": [
        "__ж) [1 балл]__ Попробуем сломать наш АБ-тест. Когда мы используем z-тест, мы размышляем в терминах центральной предельной теоремы. Тест будет работать, если выполнены предпосылки ЦПТ:\n",
        "\n",
        "- Наблюдения независимо одинаково распределены\n",
        "- В данных нет выборосов, дисперсия конечная\n",
        "- Данных много\n",
        "\n",
        "Давайте сломаем одно из условий и попробуем собрать выборку из [распределения Парето](https://ru.wikipedia.org/wiki/Распределение_Парето)."
      ]
    },
    {
      "cell_type": "code",
      "execution_count": null,
      "metadata": {
        "id": "ZjNz6_wFgr6F"
      },
      "outputs": [],
      "source": [
        "def gen_sample(n_obs, effect, b=0.5):\n",
        "    x_control = stats.pareto(b=b).rvs(n_obs)\n",
        "    x_treatment = stats.pareto(b=b).rvs(n_obs)\n",
        "    x_treatment = (1 + effect) * x_treatment\n",
        "    return x_control, x_treatment"
      ]
    },
    {
      "cell_type": "markdown",
      "metadata": {
        "id": "W0H4jp1Egr6F"
      },
      "source": [
        "Отрисуйте ROC-кривые для $b=3$, $b=1$, $b=0.5$"
      ]
    },
    {
      "cell_type": "code",
      "execution_count": null,
      "metadata": {
        "id": "1AzWAZS2gr6F"
      },
      "outputs": [],
      "source": [
        "# ваш код"
      ]
    },
    {
      "cell_type": "markdown",
      "metadata": {
        "id": "yH9AV2-Wgr6F"
      },
      "source": [
        "Возьмите при каждом $b$ одну выборку, нарисуйте для неё гистограмму и посмотрите как обстоят дела с выбросами."
      ]
    },
    {
      "cell_type": "code",
      "execution_count": null,
      "metadata": {
        "id": "IRH2Kebwgr6F"
      },
      "outputs": [],
      "source": [
        "# ваш код"
      ]
    },
    {
      "cell_type": "markdown",
      "metadata": {
        "id": "BwRGkzQ8gr6F"
      },
      "source": [
        "У распределения Парето не всегда существует дисперсия. Это ломает предпосылки ЦПТ и АБ-тест разваливается."
      ]
    },
    {
      "cell_type": "markdown",
      "metadata": {
        "id": "hz2Xca71gr6F"
      },
      "source": [
        "Возникает вполне резонный вопрос: а что делать в таких ситуациях? Есть несколько дорог.\n",
        "\n",
        "- Во-первых, можно отвязаться от математического ожидания и поработать с медианой. Для неё тоже можно вывести асимптотическое распределение с помощью дельта-метода.\n",
        "- Во-вторых, можно попробовать другие техники проверки гипотез. Например, бутстрап и непараметрические критерии.\n",
        "\n",
        "Об этом мы и будем говорить на следующих парах."
      ]
    }
  ],
  "metadata": {
    "colab": {
      "provenance": []
    },
    "kernelspec": {
      "display_name": "base",
      "language": "python",
      "name": "python3"
    },
    "language_info": {
      "codemirror_mode": {
        "name": "ipython",
        "version": 3
      },
      "file_extension": ".py",
      "mimetype": "text/x-python",
      "name": "python",
      "nbconvert_exporter": "python",
      "pygments_lexer": "ipython3",
      "version": "3.11.4"
    }
  },
  "nbformat": 4,
  "nbformat_minor": 0
}
