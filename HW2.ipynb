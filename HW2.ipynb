{
 "cells": [
  {
   "cell_type": "markdown",
   "metadata": {
    "id": "w35Q6hOIy4sk",
    "pycharm": {
     "name": "#%% md\n"
    }
   },
   "source": [
    "# Глубинное обучение, ИИ ВШЭ\n",
    "\n",
    "## Домашнее задание 2. Классификация при помощи CNN. \n",
    "\n",
    "### Общая информация\n",
    "\n",
    "### Оценивание и штрафы\n",
    "\n",
    "Максимально допустимая оценка за работу без бонусов — 10 баллов. Сдавать задание после указанного срока жесткого дедлайна нельзя.\n",
    "\n",
    "Сдача работы после мягкого дедлайна штрафуется ступенчато, -1 балл в сутки. Один раз за модуль студентам предоставляется возможность использовать отсрочку и сдать в жесткий дедлайн без штрафа.\n",
    "\n",
    "Задание выполняется самостоятельно. «Похожие» решения считаются плагиатом и все задействованные студенты (в том числе те, у кого списали) не могут получить за него больше 0 баллов. Если вы нашли решение какого-то из заданий (или его часть) в открытом источнике, необходимо указать ссылку на этот источник в отдельном блоке в конце вашей работы (скорее всего вы будете не единственным, кто это нашел, поэтому чтобы исключить подозрение в плагиате, необходима ссылка на источник).\n",
    "\n",
    "Неэффективная реализация кода может негативно отразиться на оценке. Также оценка может быть снижена за плохо читаемый код и плохо оформленные графики. Все ответы должны сопровождаться кодом или комментариями о том, как они были получены.\n",
    "\n",
    "Использование генеративных моделей допустимо на следующих условиях:\n",
    "- Количество кода, написанное генеративными моделями, не превышает 30%\n",
    "- Указана модель, использованная для генерации, а также промпт\n",
    "- В конце работы необходимо описать свой опыт использования генеративного ИИ для решения данного домашнего задания. Укажите как часто Вам приходилось исправлять код своими руками или просить модель что-то исправить. Было ли это быстрее, чем написать код самим? \n",
    "\n",
    "В случае невыполнения этих требований работа не оценивается и оценка за неё не превышает 0 баллов.\n",
    "\n",
    "### О задании\n",
    "\n",
    "В этом задании вам предстоит познакомиться со сверточными сетями и их обучением для классификации изображений с использованием библиотеки PyTorch.\n"
   ]
  },
  {
   "cell_type": "code",
   "execution_count": 3,
   "metadata": {
    "id": "SaACifdX2QOo",
    "pycharm": {
     "name": "#%%\n"
    }
   },
   "outputs": [
    {
     "name": "stderr",
     "output_type": "stream",
     "text": [
      "d:\\Programs\\anac\\Lib\\site-packages\\pandas\\core\\arrays\\masked.py:60: UserWarning: Pandas requires version '1.3.6' or newer of 'bottleneck' (version '1.3.5' currently installed).\n",
      "  from pandas.core import (\n"
     ]
    }
   ],
   "source": [
    "import matplotlib.pyplot as plt\n",
    "import numpy as np\n",
    "import torch\n",
    "import torch.nn as nn\n",
    "import torch.nn.functional as F\n",
    "import torch.optim as optim\n",
    "import torchvision\n",
    "import torchvision.transforms as transforms\n",
    "from sklearn.model_selection import train_test_split"
   ]
  },
  {
   "cell_type": "markdown",
   "metadata": {
    "id": "TIXaUYM-0JFl",
    "pycharm": {
     "name": "#%% md\n"
    }
   },
   "source": [
    "## 0. Загрузка данных\n",
    "\n",
    "Работать мы будем с набором данных [CIFAR10](https://www.cs.toronto.edu/~kriz/cifar.html). CIFAR10 представляет собой набор изображений 32х32 пикселя, разделенных на 10 классов.\n",
    "\n",
    "![title](https://pytorch.org/tutorials/_images/cifar10.png)\n",
    "\n",
    "\n"
   ]
  },
  {
   "cell_type": "markdown",
   "metadata": {
    "id": "g-0EEjl_10vB",
    "pycharm": {
     "name": "#%% md\n"
    }
   },
   "source": [
    "Набор данных уже определен в <code>torchvision.datasets</code>, так что возьмем его оттуда. \n",
    "\n"
   ]
  },
  {
   "cell_type": "code",
   "execution_count": 4,
   "metadata": {
    "id": "Cbwe92dT3aPZ",
    "pycharm": {
     "name": "#%%\n"
    }
   },
   "outputs": [],
   "source": [
    "def get_cifar10_data(batch_size, transform_train):\n",
    "    torch.manual_seed(0)\n",
    "    np.random.seed(0)\n",
    "\n",
    "    transform_test = transforms.Compose(\n",
    "        [\n",
    "            transforms.ToTensor(),\n",
    "            # Переводим цвета пикселей в отрезок [-1, 1]\n",
    "            transforms.Normalize((0.4914, 0.4822, 0.4465), (0.247, 0.243, 0.261)),\n",
    "        ]\n",
    "    )\n",
    "\n",
    "    # Загружаем данные\n",
    "    trainvalset = torchvision.datasets.CIFAR10(\n",
    "        root=\"./data\", train=True, download=True, transform=transform_train\n",
    "    )\n",
    "    testset = torchvision.datasets.CIFAR10(\n",
    "        root=\"./data\", train=False, download=True, transform=transform_test\n",
    "    )\n",
    "\n",
    "    # В датасете определено разбиение только на train и test,\n",
    "    # так что валидацию дополнительно выделяем из обучающей выборки\n",
    "    train_idx, valid_idx = train_test_split(\n",
    "        np.arange(len(trainvalset)), test_size=0.3, shuffle=True, random_state=0\n",
    "    )\n",
    "    trainset = torch.utils.data.Subset(trainvalset, train_idx)\n",
    "    valset = torch.utils.data.Subset(trainvalset, valid_idx)\n",
    "\n",
    "    train_loader = torch.utils.data.DataLoader(\n",
    "        trainset, batch_size=batch_size, shuffle=True, num_workers=2\n",
    "    )\n",
    "    val_loader = torch.utils.data.DataLoader(\n",
    "        valset, batch_size=batch_size, shuffle=False, num_workers=2\n",
    "    )\n",
    "    test_loader = torch.utils.data.DataLoader(\n",
    "        testset, batch_size=batch_size, shuffle=False, num_workers=2\n",
    "    )\n",
    "\n",
    "    return train_loader, val_loader, test_loader"
   ]
  },
  {
   "cell_type": "code",
   "execution_count": 5,
   "metadata": {
    "colab": {
     "base_uri": "https://localhost:8080/",
     "height": 101,
     "referenced_widgets": [
      "aa9da821ba0c42b5b051355e50e691f0",
      "95c5696493db48738dbdc9940acec1d8",
      "fe515a1f743f49d0b251b43919d52a8e",
      "f4f339c969fd4e21bc683ecb2567897b",
      "17b2be81159e41f1a5c6bb966516572e",
      "22bb21a6c57a413fb7374efe31349e6e",
      "18b20091dbf64b129824a8fb3266e3c0",
      "9bad0d6a00c14229b0d776a2cfe15090",
      "0fee9f5b7bdb4129a71ef0cfe9d3b1fa",
      "cd991379661b4b4ab405bf66f75c6834",
      "7d238166caf64537ad9aa2040dcdc1ec"
     ]
    },
    "id": "2G2rLnN5y6Jj",
    "outputId": "542c91e6-44f6-4e26-f1e8-5df3b83fd044",
    "pycharm": {
     "name": "#%%\n"
    }
   },
   "outputs": [
    {
     "name": "stderr",
     "output_type": "stream",
     "text": [
      "100%|██████████| 170M/170M [06:33<00:00, 433kB/s]  \n"
     ]
    }
   ],
   "source": [
    "transform = transforms.Compose(\n",
    "    [transforms.ToTensor(), transforms.Normalize((0.4914, 0.4822, 0.4465), (0.247, 0.243, 0.261))]\n",
    ")\n",
    "\n",
    "train_loader, val_loader, test_loader = get_cifar10_data(\n",
    "    batch_size=64, transform_train=transform\n",
    ")"
   ]
  },
  {
   "cell_type": "markdown",
   "metadata": {
    "id": "-82HWgXs77W1",
    "pycharm": {
     "name": "#%% md\n"
    }
   },
   "source": [
    "Посмотрим на изображения:"
   ]
  },
  {
   "cell_type": "code",
   "execution_count": 7,
   "metadata": {
    "colab": {
     "base_uri": "https://localhost:8080/",
     "height": 155
    },
    "id": "ACnwaC5iy6L2",
    "outputId": "fd2fc631-ea7b-45f2-9728-eb1c5f9e683c",
    "pycharm": {
     "name": "#%%\n"
    }
   },
   "outputs": [
    {
     "name": "stderr",
     "output_type": "stream",
     "text": [
      "Clipping input data to the valid range for imshow with RGB data ([0..1] for floats or [0..255] for integers).\n"
     ]
    },
    {
     "data": {
      "image/png": "[encoded data removed]",
      "text/plain": [
       "<Figure size 640x480 with 1 Axes>"
      ]
     },
     "metadata": {},
     "output_type": "display_data"
    },
    {
     "name": "stdout",
     "output_type": "stream",
     "text": [
      "deer ship truck cat\n"
     ]
    }
   ],
   "source": [
    "def imshow(img):\n",
    "    img = img / 2 + 0.5\n",
    "    npimg = img.numpy()\n",
    "    plt.imshow(np.transpose(npimg, (1, 2, 0)))\n",
    "    plt.show()\n",
    "\n",
    "\n",
    "dataiter = iter(train_loader)\n",
    "images, labels = next(dataiter)\n",
    "\n",
    "imshow(torchvision.utils.make_grid(images[:4]))\n",
    "\n",
    "classes = (\n",
    "    \"plane\",\n",
    "    \"car\",\n",
    "    \"bird\",\n",
    "    \"cat\",\n",
    "    \"deer\",\n",
    "    \"dog\",\n",
    "    \"frog\",\n",
    "    \"horse\",\n",
    "    \"ship\",\n",
    "    \"truck\",\n",
    ")\n",
    "print(*[classes[labels[i]] for i in range(4)])"
   ]
  },
  {
   "cell_type": "markdown",
   "metadata": {
    "id": "KFDilng29YZ_",
    "pycharm": {
     "name": "#%% md\n"
    }
   },
   "source": [
    "## 1. Задание сверточной сети (3 балла)"
   ]
  },
  {
   "cell_type": "markdown",
   "metadata": {
    "id": "OX7Ul8YbYdQR",
    "pycharm": {
     "name": "#%% md\n"
    }
   },
   "source": [
    "Теперь нам нужно задать сверточную нейронную сеть, которую мы будем обучать классифицировать изображения.\n",
    "\n",
    "Используем сеть, основанную на одном блоке архитектуры ResNet.\n",
    "\n",
    "<img src=\"https://i.ibb.co/2hg962h/basic-block.png\" width=\"500\"/>\n",
    "\n",
    "__Указания:__\n",
    "\n",
    "- Все сверточные слои должны иметь 32 выходных канала, а также не должны изменять ширину и высоту изображения.\n",
    "- Выход блока сократите до размерности 32х4х4, применив average pooling.\n",
    "- Для получения итоговых логитов, распрямите выход пулинга в вектор из 512 элементов, а затем пропустите его через линейный слой."
   ]
  },
  {
   "cell_type": "markdown",
   "metadata": {
    "id": "sbyIylT9O9Dr",
    "pycharm": {
     "name": "#%% md\n"
    }
   },
   "source": [
    "**Задание 1.1 (3 балла).**\n",
    "\n",
    "Определите архитектуру сети соответственно схеме и указаниям выше.\n",
    "\n",
    "Ключевые слова: <code>Conv2d</code>, <code>BatchNorm2d</code>, <code>AvgPool2d</code>."
   ]
  },
  {
   "cell_type": "code",
   "execution_count": 158,
   "metadata": {
    "id": "s9ml1QGKy6N9",
    "pycharm": {
     "name": "#%%\n"
    }
   },
   "outputs": [],
   "source": [
    "n_classes = 10\n",
    "\n",
    "class BasicBlockNet(nn.Module):\n",
    "    def __init__(self):\n",
    "        super().__init__()\n",
    "        self.first = nn.Sequential(\n",
    "            nn.Conv2d(3, 32, 3, padding=1),\n",
    "            nn.BatchNorm2d(32),\n",
    "            nn.ReLU(),\n",
    "            nn.Conv2d(32, 32, 3, padding=1),\n",
    "            nn.BatchNorm2d(32)            \n",
    "        )\n",
    "        self.second = nn.Sequential(\n",
    "            nn.ReLU(),\n",
    "            nn.AvgPool2d(8, 8),\n",
    "            nn.Flatten(),\n",
    "            nn.Linear(512, 512), \n",
    "            nn.ReLU(), \n",
    "            nn.Linear(512, 10)\n",
    "        )\n",
    "        \n",
    "        self.conv = nn.Conv2d(3, 32, 1)\n",
    "      \n",
    "\n",
    "    def forward(self, x):\n",
    "        pred_1 = self.first(x)\n",
    "        pred_2 = self.conv(x)\n",
    "\n",
    "        out = pred_1 + pred_2\n",
    "\n",
    "        out = self.second(out)\n",
    "\n",
    "        return out"
   ]
  },
  {
   "cell_type": "code",
   "execution_count": 159,
   "metadata": {
    "id": "FI4BQg7Ky6Pw",
    "pycharm": {
     "name": "#%%\n"
    }
   },
   "outputs": [
    {
     "data": {
      "text/plain": [
       "BasicBlockNet(\n",
       "  (first): Sequential(\n",
       "    (0): Conv2d(3, 32, kernel_size=(3, 3), stride=(1, 1), padding=(1, 1))\n",
       "    (1): BatchNorm2d(32, eps=1e-05, momentum=0.1, affine=True, track_running_stats=True)\n",
       "    (2): ReLU()\n",
       "    (3): Conv2d(32, 32, kernel_size=(3, 3), stride=(1, 1), padding=(1, 1))\n",
       "    (4): BatchNorm2d(32, eps=1e-05, momentum=0.1, affine=True, track_running_stats=True)\n",
       "  )\n",
       "  (second): Sequential(\n",
       "    (0): ReLU()\n",
       "    (1): AvgPool2d(kernel_size=8, stride=8, padding=0)\n",
       "    (2): Flatten(start_dim=1, end_dim=-1)\n",
       "    (3): Linear(in_features=512, out_features=512, bias=True)\n",
       "    (4): ReLU()\n",
       "    (5): Linear(in_features=512, out_features=10, bias=True)\n",
       "  )\n",
       "  (conv): Conv2d(3, 32, kernel_size=(1, 1), stride=(1, 1))\n",
       ")"
      ]
     },
     "execution_count": 159,
     "metadata": {},
     "output_type": "execute_result"
    }
   ],
   "source": [
    "net = BasicBlockNet()\n",
    "net"
   ]
  },
  {
   "cell_type": "markdown",
   "metadata": {
    "id": "igPoGZEub8d3",
    "pycharm": {
     "name": "#%% md\n"
    }
   },
   "source": [
    "Проверим, что выход сети имеет корректную размерность:"
   ]
  },
  {
   "cell_type": "code",
   "execution_count": 160,
   "metadata": {
    "id": "cCIzFUpJ_Agw",
    "pycharm": {
     "name": "#%%\n"
    }
   },
   "outputs": [],
   "source": [
    "assert net(torch.zeros((10, 3, 32, 32))).shape == (10, 10)"
   ]
  },
  {
   "cell_type": "markdown",
   "metadata": {
    "id": "08osX622cDGz",
    "pycharm": {
     "name": "#%% md\n"
    }
   },
   "source": [
    "Чтобы проводить вычисления на GPU, в PyTorch необходимо руками перекладывать объекты, с которыми вы хотите проводить вычисления, на графический ускоритель. Это делается следующим образрм:"
   ]
  },
  {
   "cell_type": "code",
   "execution_count": 25,
   "metadata": {
    "id": "56hDOMCFcDZX",
    "pycharm": {
     "name": "#%%\n"
    }
   },
   "outputs": [
    {
     "name": "stdout",
     "output_type": "stream",
     "text": [
      "cpu\n"
     ]
    }
   ],
   "source": [
    "device = torch.device(\"cuda:0\" if torch.cuda.is_available() else \"cpu\")\n",
    "print(device)"
   ]
  },
  {
   "cell_type": "code",
   "execution_count": 31,
   "metadata": {
    "id": "ohnDWbp0qbtC",
    "pycharm": {
     "name": "#%%\n"
    }
   },
   "outputs": [],
   "source": [
    "net = net.to(device)"
   ]
  },
  {
   "cell_type": "markdown",
   "metadata": {
    "id": "H_bOlTVUp5QF",
    "pycharm": {
     "name": "#%% md\n"
    }
   },
   "source": [
    "Подключение GPU в google.colab:\n",
    "\n",
    "**Среда выполнения** -> **Сменить среду выполнения** -> **Аппаратный ускоритель** -> **GPU**"
   ]
  },
  {
   "cell_type": "markdown",
   "metadata": {
    "id": "AGi6XX_7_Bgg",
    "pycharm": {
     "name": "#%% md\n"
    }
   },
   "source": [
    "## 2. Обучение и тестирование модели (3 балла)"
   ]
  },
  {
   "cell_type": "markdown",
   "metadata": {
    "id": "0agj_MQoO9Ds",
    "pycharm": {
     "name": "#%% md\n"
    }
   },
   "source": [
    "**Задание 2.1 (2 балла).** Переходим к обучению модели. Заполните пропуски в функциях <code>test</code> и <code>train_epoch</code>. В качестве функции потерь будем использовать [кросс-энтропию](https://pytorch.org/docs/stable/generated/torch.nn.functional.cross_entropy.html), а в качестве метрики качества accuracy."
   ]
  },
  {
   "cell_type": "code",
   "execution_count": null,
   "metadata": {
    "id": "g8gsPPRIevDS",
    "pycharm": {
     "name": "#%%\n"
    }
   },
   "outputs": [],
   "source": [
    "def test(model, loader):\n",
    "    loss_log = []\n",
    "    acc_log = []\n",
    "    model.eval()\n",
    "    ce = nn.CrossEntropyLoss()\n",
    "    for data, target in loader:\n",
    "\n",
    "        pred = model(data.to(device))\n",
    "        loss = ce(pred, target.to(device))\n",
    "\n",
    "        loss_log.append(loss.item())\n",
    "\n",
    "        pred_classes = torch.argmax(pred.cpu(), dim=-1)\n",
    "\n",
    "        acc = (pred_classes == target).sum() / len(target)\n",
    "        acc_log.append(acc.item())\n",
    "\n",
    "    return np.mean(loss_log), np.mean(acc_log)\n",
    "\n",
    "\n",
    "def train_epoch(model, optimizer, train_loader):\n",
    "    loss_log = []\n",
    "    acc_log = []\n",
    "    model.train()\n",
    "    ce = nn.CrossEntropyLoss()\n",
    "    for data, target in train_loader:\n",
    "\n",
    "        pred = model(data.to(device))\n",
    "        \n",
    "        loss = ce(pred, target.to(device))\n",
    "        loss.backward()\n",
    "\n",
    "        optimizer.step()\n",
    "        optimizer.zero_grad(set_to_none=True)\n",
    "\n",
    "        loss_log.append(loss.item())\n",
    "\n",
    "        pred_classes = torch.argmax(pred.cpu(), dim=-1)\n",
    "\n",
    "        acc = (pred_classes == target).sum() / len(target)\n",
    "\n",
    "        acc_log.append(acc.item())\n",
    "\n",
    "    return loss_log, acc_log\n",
    "\n",
    "\n",
    "def train(model, optimizer, n_epochs, train_loader, val_loader, scheduler=None):\n",
    "    train_loss_log, train_acc_log, val_loss_log, val_acc_log = [], [], [], []\n",
    "\n",
    "    for epoch in range(n_epochs):\n",
    "        train_loss, train_acc = train_epoch(model, optimizer, train_loader)\n",
    "        val_loss, val_acc = test(model, val_loader)\n",
    "\n",
    "        train_loss_log.extend(train_loss)\n",
    "        train_acc_log.extend(train_acc)\n",
    "\n",
    "        val_loss_log.append(val_loss)\n",
    "        val_acc_log.append(val_acc)\n",
    "\n",
    "        print(f\"Epoch {epoch}\")\n",
    "        print(f\" train loss: {np.mean(train_loss)}, train acc: {np.mean(train_acc)}\")\n",
    "        print(f\" val loss: {val_loss}, val acc: {val_acc}\\n\")\n",
    "\n",
    "        if scheduler is not None:\n",
    "            scheduler.step()\n",
    "\n",
    "    return train_loss_log, train_acc_log, val_loss_log, val_acc_log"
   ]
  },
  {
   "cell_type": "markdown",
   "metadata": {
    "id": "iSOqk_CAO9Dt",
    "pycharm": {
     "name": "#%% md\n"
    }
   },
   "source": [
    "Запустим обучение модели. В качестве оптимизатора будем использовать стохастический градиентный спуск, который является де-факто стандартом в задачах компьютерного зрения (наравне с <code>Adam</code>).\n",
    "\n",
    "__Замечание:__ Для достижения наилучшего качества в нашем случае потребуется обучать модель несколько сотен эпох. Однако в целях экономии вашего времени и сил, во всех экспериментах мы ограничимся 20 эпохами."
   ]
  },
  {
   "cell_type": "code",
   "execution_count": 162,
   "metadata": {
    "id": "MKZBGhuAgMDu",
    "pycharm": {
     "name": "#%%\n"
    },
    "scrolled": true
   },
   "outputs": [
    {
     "name": "stdout",
     "output_type": "stream",
     "text": [
      "Epoch 0\n",
      " train loss: 1.597000947382158, train acc: 0.41896954162465155\n",
      " val loss: 1.4188017753844566, val acc: 0.48018617021276594\n",
      "\n",
      "Epoch 1\n",
      " train loss: 1.3016157945723594, train acc: 0.5339065356489945\n",
      " val loss: 1.2150929689407348, val acc: 0.5694592198158832\n",
      "\n",
      "Epoch 2\n",
      " train loss: 1.1457228821853833, train acc: 0.5938765016508712\n",
      " val loss: 1.1685473873260173, val acc: 0.5859042553191489\n",
      "\n",
      "Epoch 3\n",
      " train loss: 1.0335525683990563, train acc: 0.6317372355862118\n",
      " val loss: 1.0519182737837447, val acc: 0.6305186170212767\n",
      "\n",
      "Epoch 4\n",
      " train loss: 0.9655455225564444, train acc: 0.6603225385685072\n",
      " val loss: 1.008044484828381, val acc: 0.6519060284533399\n",
      "\n",
      "Epoch 5\n",
      " train loss: 0.9094163851720541, train acc: 0.6805056803187243\n",
      " val loss: 0.9753716773175178, val acc: 0.6593528369639782\n",
      "\n",
      "Epoch 6\n",
      " train loss: 0.8484154008533227, train acc: 0.7016151410134227\n",
      " val loss: 0.9623045467315836, val acc: 0.6703014183551708\n",
      "\n",
      "Epoch 7\n",
      " train loss: 0.8046665708696167, train acc: 0.718745919315645\n",
      " val loss: 0.94263275633467, val acc: 0.674468085106383\n",
      "\n",
      "Epoch 8\n",
      " train loss: 0.7643470861685123, train acc: 0.7286293745258826\n",
      " val loss: 0.9894654172532102, val acc: 0.664184397078575\n",
      "\n",
      "Epoch 9\n",
      " train loss: 0.7286741561928877, train acc: 0.7434708800786592\n",
      " val loss: 0.9742852285821387, val acc: 0.6772384752618505\n",
      "\n",
      "Epoch 10\n",
      " train loss: 0.6777313346182843, train acc: 0.7593937712352062\n",
      " val loss: 0.9221762037023585, val acc: 0.6940381204828303\n",
      "\n",
      "Epoch 11\n",
      " train loss: 0.6519833191330298, train acc: 0.7673511360201583\n",
      " val loss: 0.9799353069447456, val acc: 0.6814937944107867\n",
      "\n",
      "Epoch 12\n",
      " train loss: 0.6223133987112063, train acc: 0.7818784277879341\n",
      " val loss: 1.029953009270607, val acc: 0.6773936170212767\n",
      "\n",
      "Epoch 13\n",
      " train loss: 0.5985237603540612, train acc: 0.7903703642937557\n",
      " val loss: 0.9409159033856493, val acc: 0.6959441489361702\n",
      "\n",
      "Epoch 14\n",
      " train loss: 0.5620859258789467, train acc: 0.801873857404022\n",
      " val loss: 0.9904127105753473, val acc: 0.6930186170212767\n",
      "\n",
      "Epoch 15\n",
      " train loss: 0.5380446184869222, train acc: 0.8119450248573554\n",
      " val loss: 1.0167985216100166, val acc: 0.6876994680851064\n",
      "\n",
      "Epoch 16\n",
      " train loss: 0.519865616720163, train acc: 0.8188291656251799\n",
      " val loss: 1.0061033822120504, val acc: 0.6947695034615538\n",
      "\n",
      "Epoch 17\n",
      " train loss: 0.4979278478751017, train acc: 0.8269497584381312\n",
      " val loss: 1.080146375615546, val acc: 0.688408688027808\n",
      "\n",
      "Epoch 18\n",
      " train loss: 0.4879326589364674, train acc: 0.8288350418019338\n",
      " val loss: 1.0856214930402472, val acc: 0.6901595744680851\n",
      "\n",
      "Epoch 19\n",
      " train loss: 0.46543298890538365, train acc: 0.8370739748970464\n",
      " val loss: 1.0319118620233332, val acc: 0.6988253545253835\n",
      "\n"
     ]
    }
   ],
   "source": [
    "net = BasicBlockNet().to(device)\n",
    "optimizer = optim.SGD(net.parameters(), lr=0.1, momentum=0.9)\n",
    "train_loss_log, train_acc_log, val_loss_log, val_acc_log = train(\n",
    "    net, optimizer, 20, train_loader, val_loader\n",
    ")"
   ]
  },
  {
   "cell_type": "markdown",
   "metadata": {
    "id": "gUb1jQW8O9Dt",
    "pycharm": {
     "name": "#%% md\n"
    }
   },
   "source": [
    "Посчитайте точность на тестовой выборке:"
   ]
  },
  {
   "cell_type": "code",
   "execution_count": 163,
   "metadata": {},
   "outputs": [],
   "source": [
    "test_loss_log, test_acc_log = test(net, test_loader)"
   ]
  },
  {
   "cell_type": "code",
   "execution_count": 164,
   "metadata": {},
   "outputs": [
    {
     "data": {
      "text/plain": [
       "0.725218949044586"
      ]
     },
     "execution_count": 164,
     "metadata": {},
     "output_type": "execute_result"
    }
   ],
   "source": [
    "test_acc_log"
   ]
  },
  {
   "cell_type": "markdown",
   "metadata": {
    "id": "zM38Q9fwO9Dt",
    "pycharm": {
     "name": "#%% md\n"
    }
   },
   "source": [
    "Если вы все сделали правильно, у вас должна была получиться точность $\\ge 67\\%$."
   ]
  },
  {
   "cell_type": "markdown",
   "metadata": {
    "id": "DHFNSKcoO9Dt",
    "pycharm": {
     "name": "#%% md\n"
    }
   },
   "source": [
    "**Задание 2.2 (1 балл).** Постройте графики зависимости функции потерь и точности классификации от номера шага оптимизатора. На каждом графике расположите данные и для обучающей и для валидационной выборки, итого у вас должно получиться два графика. Обратите внимание, что на обучающей выборке эти данные считаются по каждому батчу, на валидационной же они считаются по всей выборке раз в эпоху."
   ]
  },
  {
   "cell_type": "code",
   "execution_count": null,
   "metadata": {
    "id": "LzIP0tGLO9Dt",
    "pycharm": {
     "name": "#%%\n"
    }
   },
   "outputs": [],
   "source": [
    "# измененный код из 3го семинара (03_Image_Classification)\n",
    "\n",
    "def plot_history(train_history, val_history, title=\"loss\"):\n",
    "    plt.figure()\n",
    "    plt.title(title)\n",
    "    plt.plot(train_history, label=\"train\")\n",
    "\n",
    "    plt.plot(np.repeat(val_history, int(len(train_history) / len(val_history))),  label=\"val\")\n",
    "\n",
    "    plt.xlabel(\"batch\")\n",
    "\n",
    "    plt.legend(loc=\"best\")\n",
    "    plt.grid()\n",
    "\n",
    "    plt.show()"
   ]
  },
  {
   "cell_type": "code",
   "execution_count": 166,
   "metadata": {},
   "outputs": [
    {
     "data": {
      "image/png": "[encoded data removed]",
      "text/plain": [
       "<Figure size 640x480 with 1 Axes>"
      ]
     },
     "metadata": {},
     "output_type": "display_data"
    },
    {
     "data": {
      "image/png": "[encoded data removed]",
      "text/plain": [
       "<Figure size 640x480 with 1 Axes>"
      ]
     },
     "metadata": {},
     "output_type": "display_data"
    }
   ],
   "source": [
    "plot_history(train_loss_log, val_loss_log)\n",
    "plot_history(train_acc_log, val_acc_log, 'acc')"
   ]
  },
  {
   "cell_type": "markdown",
   "metadata": {
    "id": "_ttOJPj-O9Dt",
    "pycharm": {
     "name": "#%% md\n"
    }
   },
   "source": [
    "## 3. Расписание длины шага (2 балла)"
   ]
  },
  {
   "cell_type": "markdown",
   "metadata": {
    "id": "qiz3JstuO9Dt",
    "pycharm": {
     "name": "#%% md\n"
    }
   },
   "source": [
    "С курса \"Машинное обучение 1\" вы уже должны знать, что сходимость стохастического градиентного спуска мы можем теоретически гарантировать только если будем определенным образом со временем уменьшать длину шага. На практике при обучении нейронных сетей такая техника оказывается очень полезной, однако теоретически обоснованными способами уменьшения длины шага фантазия не ограничивается.\n",
    "\n",
    "Одним из простейших способов является кусочно постоянная функция: на нескольких фиксированных эпохах уменьшаем длину шага в константу раз."
   ]
  },
  {
   "cell_type": "code",
   "execution_count": 167,
   "metadata": {
    "id": "V2Z0OT3nO9Du",
    "pycharm": {
     "name": "#%%\n"
    }
   },
   "outputs": [
    {
     "name": "stdout",
     "output_type": "stream",
     "text": [
      "Epoch 0\n",
      " train loss: 1.6236972287978289, train acc: 0.4074170801931587\n",
      " val loss: 1.4859703987202746, val acc: 0.45729166662439386\n",
      "\n",
      "Epoch 1\n",
      " train loss: 1.357977841410384, train acc: 0.5098793745258826\n",
      " val loss: 1.2920115404940666, val acc: 0.5408466312479465\n",
      "\n",
      "Epoch 2\n",
      " train loss: 1.1908301283934, train acc: 0.573595423040268\n",
      " val loss: 1.1373842000961303, val acc: 0.5923315603682335\n",
      "\n",
      "Epoch 3\n",
      " train loss: 1.085432463415798, train acc: 0.6168957299244687\n",
      " val loss: 1.0995853107026283, val acc: 0.616001773134191\n",
      "\n",
      "Epoch 4\n",
      " train loss: 1.0111049931271638, train acc: 0.6405678702010968\n",
      " val loss: 1.035454247099288, val acc: 0.6388297872340426\n",
      "\n",
      "Epoch 5\n",
      " train loss: 0.9513488798734256, train acc: 0.6649622943327239\n",
      " val loss: 0.9862420181010632, val acc: 0.6578900710065314\n",
      "\n",
      "Epoch 6\n",
      " train loss: 0.8927059653036338, train acc: 0.6857861060329068\n",
      " val loss: 1.0199856709926687, val acc: 0.6467641843126175\n",
      "\n",
      "Epoch 7\n",
      " train loss: 0.8490703139706112, train acc: 0.700484787197392\n",
      " val loss: 1.0466436188271706, val acc: 0.635062056653043\n",
      "\n",
      "Epoch 8\n",
      " train loss: 0.8076915747504784, train acc: 0.7162362888482633\n",
      " val loss: 0.9350718805130492, val acc: 0.6797650710065314\n",
      "\n",
      "Epoch 9\n",
      " train loss: 0.7616071897734236, train acc: 0.7311145207781679\n",
      " val loss: 0.9873604168283179, val acc: 0.670722517815042\n",
      "\n",
      "Epoch 10\n",
      " train loss: 0.5730601667921983, train acc: 0.8008618438701525\n",
      " val loss: 0.863935405523219, val acc: 0.7158687944107868\n",
      "\n",
      "Epoch 11\n",
      " train loss: 0.5131583328220919, train acc: 0.8201105053071784\n",
      " val loss: 0.85446903857779, val acc: 0.7198138297872341\n",
      "\n",
      "Epoch 12\n",
      " train loss: 0.4975611186659532, train acc: 0.8254603029822954\n",
      " val loss: 0.8553528196000039, val acc: 0.7216312055892132\n",
      "\n",
      "Epoch 13\n",
      " train loss: 0.479694461065193, train acc: 0.8323322015880884\n",
      " val loss: 0.8622103793823973, val acc: 0.7264627659574469\n",
      "\n",
      "Epoch 14\n",
      " train loss: 0.4669642659820194, train acc: 0.8380288587409792\n",
      " val loss: 0.8623593939111588, val acc: 0.7238253545253834\n",
      "\n",
      "Epoch 15\n",
      " train loss: 0.433901181195946, train acc: 0.8497445482004713\n",
      " val loss: 0.8629729369853405, val acc: 0.727437943346957\n",
      "\n",
      "Epoch 16\n",
      " train loss: 0.43216440337667517, train acc: 0.8515318947038877\n",
      " val loss: 0.8582131537985295, val acc: 0.7314716311211281\n",
      "\n",
      "Epoch 17\n",
      " train loss: 0.4287730970265007, train acc: 0.8512748106088237\n",
      " val loss: 0.8533354168242596, val acc: 0.7280806736743196\n",
      "\n",
      "Epoch 18\n",
      " train loss: 0.42936285262351936, train acc: 0.8512992948239203\n",
      " val loss: 0.86400489642265, val acc: 0.7292553191489362\n",
      "\n",
      "Epoch 19\n",
      " train loss: 0.4234514390092881, train acc: 0.8525520697154336\n",
      " val loss: 0.8688733308873278, val acc: 0.7269946808510638\n",
      "\n"
     ]
    }
   ],
   "source": [
    "net = BasicBlockNet().to(device)\n",
    "optimizer = optim.SGD(net.parameters(), lr=0.1, momentum=0.9)\n",
    "scheduler = optim.lr_scheduler.MultiStepLR(optimizer, milestones=[10, 15], gamma=0.1)\n",
    "tr_loss_log, tr_acc_log, val_loss_log, val_acc_log = train(\n",
    "    net, optimizer, 20, train_loader, val_loader, scheduler\n",
    ")"
   ]
  },
  {
   "cell_type": "markdown",
   "metadata": {
    "id": "5Xc76KvzO9Du",
    "pycharm": {
     "name": "#%% md\n"
    }
   },
   "source": [
    "Посчитайте точность на тестовой выборке:"
   ]
  },
  {
   "cell_type": "code",
   "execution_count": 168,
   "metadata": {
    "id": "1AjiYhKqO9Du",
    "pycharm": {
     "name": "#%%\n"
    }
   },
   "outputs": [],
   "source": [
    "test_loss_log, test_acc_log = test(net, test_loader)"
   ]
  },
  {
   "cell_type": "code",
   "execution_count": 169,
   "metadata": {},
   "outputs": [
    {
     "data": {
      "text/plain": [
       "0.7486066878980892"
      ]
     },
     "execution_count": 169,
     "metadata": {},
     "output_type": "execute_result"
    }
   ],
   "source": [
    "test_acc_log"
   ]
  },
  {
   "cell_type": "markdown",
   "metadata": {
    "id": "yE0dgLYrO9Du",
    "pycharm": {
     "name": "#%% md\n"
    }
   },
   "source": [
    "**Задание 3.0 (0.5 баллов).** Здесь может возникнуть вопрос: а что будет, если мы не будем уменьшать длину шага в процессе обучения, а сразу возьмем констатную, равную значению нашей кусочно-постоянной функции на последних эпохах, то есть $0.001$ в нашем случае. Запустите обучение и проверьте, что в таком случае мы получим худшее качество на тестовой выборке."
   ]
  },
  {
   "cell_type": "code",
   "execution_count": 170,
   "metadata": {
    "id": "qZ2iB-LBO9Du",
    "pycharm": {
     "name": "#%%\n"
    }
   },
   "outputs": [
    {
     "name": "stdout",
     "output_type": "stream",
     "text": [
      "Epoch 0\n",
      " train loss: 1.983196770469275, train acc: 0.2961608775137112\n",
      " val loss: 1.782426028556012, val acc: 0.37016843969517566\n",
      "\n",
      "Epoch 1\n",
      " train loss: 1.6909891417083183, train acc: 0.39535045051705464\n",
      " val loss: 1.5932355474918447, val acc: 0.4317154255319149\n",
      "\n",
      "Epoch 2\n",
      " train loss: 1.5472806092807971, train acc: 0.44213159439550676\n",
      " val loss: 1.4878682816282232, val acc: 0.4596409574468085\n",
      "\n",
      "Epoch 3\n",
      " train loss: 1.456998103497451, train acc: 0.47471190256218154\n",
      " val loss: 1.4193445773834878, val acc: 0.4877659574468085\n",
      "\n",
      "Epoch 4\n",
      " train loss: 1.4060995988479699, train acc: 0.49378509397262627\n",
      " val loss: 1.3728870401991176, val acc: 0.5060948581137555\n",
      "\n",
      "Epoch 5\n",
      " train loss: 1.3628598401489815, train acc: 0.5098793745258826\n",
      " val loss: 1.3339247845588846, val acc: 0.513031914893617\n",
      "\n",
      "Epoch 6\n",
      " train loss: 1.3238559943884338, train acc: 0.5249738834893681\n",
      " val loss: 1.2939161871341949, val acc: 0.5355939716734784\n",
      "\n",
      "Epoch 7\n",
      " train loss: 1.2862350920000722, train acc: 0.5384932424076296\n",
      " val loss: 1.258439475678383, val acc: 0.5439937942839683\n",
      "\n",
      "Epoch 8\n",
      " train loss: 1.2561811817847397, train acc: 0.5512168647166362\n",
      " val loss: 1.2384256646988239, val acc: 0.5543439716734785\n",
      "\n",
      "Epoch 9\n",
      " train loss: 1.2229023536554857, train acc: 0.5626265016508712\n",
      " val loss: 1.2224258838815891, val acc: 0.5563386525245423\n",
      "\n",
      "Epoch 10\n",
      " train loss: 1.199810062727501, train acc: 0.5729098654534307\n",
      " val loss: 1.18107112874376, val acc: 0.5756427304541811\n",
      "\n",
      "Epoch 11\n",
      " train loss: 1.1717894953391235, train acc: 0.5822913946355719\n",
      " val loss: 1.1651254435803027, val acc: 0.5867686170212766\n",
      "\n",
      "Epoch 12\n",
      " train loss: 1.1460482883496956, train acc: 0.5958311569756084\n",
      " val loss: 1.1468499315545915, val acc: 0.5904920212765957\n",
      "\n",
      "Epoch 13\n",
      " train loss: 1.1237438085746068, train acc: 0.6001975059073411\n",
      " val loss: 1.1108019775532663, val acc: 0.6029476950777338\n",
      "\n",
      "Epoch 14\n",
      " train loss: 1.1001864718562724, train acc: 0.6101625751315785\n",
      " val loss: 1.0862947869808115, val acc: 0.616156914893617\n",
      "\n",
      "Epoch 15\n",
      " train loss: 1.0781069050323375, train acc: 0.6195889919505913\n",
      " val loss: 1.0782171929136235, val acc: 0.6212322695458189\n",
      "\n",
      "Epoch 16\n",
      " train loss: 1.0591098195456063, train acc: 0.6248530948183872\n",
      " val loss: 1.0762063074619213, val acc: 0.6186391843126176\n",
      "\n",
      "Epoch 17\n",
      " train loss: 1.0440178403470808, train acc: 0.6287909702583466\n",
      " val loss: 1.0596092635012688, val acc: 0.6273049646235527\n",
      "\n",
      "Epoch 18\n",
      " train loss: 1.032372509757605, train acc: 0.637437973314491\n",
      " val loss: 1.0278492222441005, val acc: 0.6383200353764473\n",
      "\n",
      "Epoch 19\n",
      " train loss: 1.0131139635385935, train acc: 0.6422613606374487\n",
      " val loss: 1.0211691316137923, val acc: 0.6392065603682335\n",
      "\n"
     ]
    }
   ],
   "source": [
    "# <your code here>\n",
    "net = BasicBlockNet().to(device)\n",
    "optimizer = optim.SGD(net.parameters(), lr=0.001, momentum=0.9)\n",
    "train_loss_log, train_acc_log, val_loss_log, val_acc_log = train(\n",
    "    net, optimizer, 20, train_loader, val_loader\n",
    ")"
   ]
  },
  {
   "cell_type": "code",
   "execution_count": 171,
   "metadata": {},
   "outputs": [],
   "source": [
    "test_loss_log, test_acc_log = test(net, test_loader)"
   ]
  },
  {
   "cell_type": "code",
   "execution_count": 172,
   "metadata": {},
   "outputs": [
    {
     "data": {
      "text/plain": [
       "0.6687898089171974"
      ]
     },
     "execution_count": 172,
     "metadata": {},
     "output_type": "execute_result"
    }
   ],
   "source": [
    "test_acc_log"
   ]
  },
  {
   "cell_type": "markdown",
   "metadata": {},
   "source": [
    "Качество на тесте получилось хуже, как и ожидали."
   ]
  },
  {
   "cell_type": "markdown",
   "metadata": {
    "id": "xVotU378O9Du",
    "pycharm": {
     "name": "#%% md\n"
    }
   },
   "source": [
    "**Задание 3.1 (1.5 балла).** Изучите, какие еще способы уменьшения длины шага представлены в <code>torch.optim.lr_scheduler</code>. Выберите несколько из них, объясните, как они устроены, и обучите модель с ними. Удалось ли добиться улучшения качества на тестовой выборке?"
   ]
  },
  {
   "cell_type": "code",
   "execution_count": null,
   "metadata": {
    "id": "nkGlzocOO9Du",
    "pycharm": {
     "name": "#%%\n"
    }
   },
   "outputs": [
    {
     "name": "stdout",
     "output_type": "stream",
     "text": [
      "Epoch 0\n",
      " train loss: 1.6028608510873434, train acc: 0.4157294659335609\n",
      " val loss: 1.394718322855361, val acc: 0.4938608155605641\n",
      "\n",
      "Epoch 1\n",
      " train loss: 1.3834376785175455, train acc: 0.5002938103632256\n",
      " val loss: 1.3723277893472225, val acc: 0.5120124113052449\n",
      "\n",
      "Epoch 2\n",
      " train loss: 1.2560524763965084, train acc: 0.5494050339981232\n",
      " val loss: 1.2336551118404306, val acc: 0.5642730497299356\n",
      "\n",
      "Epoch 3\n",
      " train loss: 1.1478276107821213, train acc: 0.5904201488172333\n",
      " val loss: 1.1284551650919812, val acc: 0.5917331561129144\n",
      "\n",
      "Epoch 4\n",
      " train loss: 1.0748566453374064, train acc: 0.619637960271818\n",
      " val loss: 1.10227159616795, val acc: 0.611591311972192\n",
      "\n",
      "Epoch 5\n",
      " train loss: 1.0052149980116152, train acc: 0.6433998759311558\n",
      " val loss: 1.043582086360201, val acc: 0.6350398936170213\n",
      "\n",
      "Epoch 6\n",
      " train loss: 0.9608650188995236, train acc: 0.6634769195612431\n",
      " val loss: 1.0871800364331996, val acc: 0.6179521276595744\n",
      "\n",
      "Epoch 7\n",
      " train loss: 0.920521811876698, train acc: 0.6756659702583466\n",
      " val loss: 1.0702602201319755, val acc: 0.6314716311211281\n",
      "\n",
      "Epoch 8\n",
      " train loss: 0.8861823620264447, train acc: 0.6842599243089094\n",
      " val loss: 0.9942009877651296, val acc: 0.6561613476022761\n",
      "\n",
      "Epoch 9\n",
      " train loss: 0.8517999770000604, train acc: 0.7014641551474549\n",
      " val loss: 0.9263197287600091, val acc: 0.6827570922831272\n",
      "\n",
      "Epoch 10\n",
      " train loss: 0.8174673413663721, train acc: 0.7133512340036563\n",
      " val loss: 0.9238259503181945, val acc: 0.684751773134191\n",
      "\n",
      "Epoch 11\n",
      " train loss: 0.7750683293917933, train acc: 0.7277112170590779\n",
      " val loss: 1.0006426925354817, val acc: 0.6601285460147451\n",
      "\n",
      "Epoch 12\n",
      " train loss: 0.7303625989221786, train acc: 0.7445073779365916\n",
      " val loss: 0.9306868160024603, val acc: 0.6859929077168728\n",
      "\n",
      "Epoch 13\n",
      " train loss: 0.6814511212396012, train acc: 0.7596712588610117\n",
      " val loss: 0.9572288297592325, val acc: 0.681626773134191\n",
      "\n",
      "Epoch 14\n",
      " train loss: 0.6429994894120113, train acc: 0.774092452290725\n",
      " val loss: 1.002149998127146, val acc: 0.6749778369639782\n",
      "\n",
      "Epoch 15\n",
      " train loss: 0.6002174159290585, train acc: 0.7898847610030794\n",
      " val loss: 1.065586417025708, val acc: 0.668594858240574\n",
      "\n",
      "Epoch 16\n",
      " train loss: 0.5770243726657122, train acc: 0.7994703251657364\n",
      " val loss: 0.9945864900629571, val acc: 0.691533688027808\n",
      "\n",
      "Epoch 17\n",
      " train loss: 0.5618800417106374, train acc: 0.8001762862833152\n",
      " val loss: 0.9896294918466122, val acc: 0.7037677305809995\n",
      "\n",
      "Epoch 18\n",
      " train loss: 0.5247927930008559, train acc: 0.8174539696581838\n",
      " val loss: 1.0182083101982766, val acc: 0.692154255319149\n",
      "\n",
      "Epoch 19\n",
      " train loss: 0.4864264761508056, train acc: 0.8299449921961894\n",
      " val loss: 0.9720570237078565, val acc: 0.702593085106383\n",
      "\n",
      "0.7243232484076433\n"
     ]
    }
   ],
   "source": [
    "net = BasicBlockNet().to(device)\n",
    "optimizer = optim.SGD(net.parameters(), lr=0.1, momentum=0.9)\n",
    "scheduler = optim.lr_scheduler.LinearLR(optimizer, start_factor=1./8., total_iters=10)\n",
    "tr_loss_log, tr_acc_log, val_loss_log, val_acc_log = train(\n",
    "    net, optimizer, 20, train_loader, val_loader, scheduler\n",
    ")\n",
    "\n",
    "test_loss_log, test_acc_log = test(net, test_loader)\n",
    "print(test_acc_log)"
   ]
  },
  {
   "cell_type": "code",
   "execution_count": null,
   "metadata": {},
   "outputs": [
    {
     "name": "stdout",
     "output_type": "stream",
     "text": [
      "Epoch 0\n",
      " train loss: 1.6138278786399465, train acc: 0.40973491773308957\n",
      " val loss: 1.3619392486328774, val acc: 0.5065602836456705\n",
      "\n",
      "Epoch 1\n",
      " train loss: 1.3214885050897407, train acc: 0.5245821363747228\n",
      " val loss: 1.2704098551831347, val acc: 0.5483820922831272\n",
      "\n",
      "Epoch 2\n",
      " train loss: 1.134085738135866, train acc: 0.5985407417391511\n",
      " val loss: 1.1395957216303398, val acc: 0.5913120566530431\n",
      "\n",
      "Epoch 3\n",
      " train loss: 0.9863945355798907, train acc: 0.6490271611231119\n",
      " val loss: 1.0029273738252356, val acc: 0.6429964539852548\n",
      "\n",
      "Epoch 4\n",
      " train loss: 0.8587352839422836, train acc: 0.6960286628829496\n",
      " val loss: 0.9195716348100216, val acc: 0.6741799646235527\n",
      "\n",
      "Epoch 5\n",
      " train loss: 0.8188735289155238, train acc: 0.7100948354661791\n",
      " val loss: 0.9130977907079332, val acc: 0.6762854609083622\n",
      "\n",
      "Epoch 6\n",
      " train loss: 0.8245330602203035, train acc: 0.7096990075582125\n",
      " val loss: 0.9110330447237542, val acc: 0.6799867021276595\n",
      "\n",
      "Epoch 7\n",
      " train loss: 0.8921319789489837, train acc: 0.6867899581980662\n",
      " val loss: 0.972380187917263, val acc: 0.6617464539852548\n",
      "\n",
      "Epoch 8\n",
      " train loss: 0.9506483850575016, train acc: 0.6645419822096607\n",
      " val loss: 1.0001237653671426, val acc: 0.651684397078575\n",
      "\n",
      "Epoch 9\n",
      " train loss: 0.963841036643145, train acc: 0.6588534865344464\n",
      " val loss: 1.03943187023731, val acc: 0.6388962765957447\n",
      "\n",
      "Epoch 10\n",
      " train loss: 0.9264480168684309, train acc: 0.6724667015197726\n",
      " val loss: 1.0041483775098272, val acc: 0.6561170212765958\n",
      "\n",
      "Epoch 11\n",
      " train loss: 0.8482020800793628, train acc: 0.6996400822669104\n",
      " val loss: 0.9796260417775905, val acc: 0.6585992906955962\n",
      "\n",
      "Epoch 12\n",
      " train loss: 0.7439819220215137, train acc: 0.7346688103632256\n",
      " val loss: 0.9551065404364403, val acc: 0.6767065603682335\n",
      "\n",
      "Epoch 13\n",
      " train loss: 0.6180371062956083, train acc: 0.7827965852547389\n",
      " val loss: 0.8828425550714453, val acc: 0.7079565603682335\n",
      "\n",
      "Epoch 14\n",
      " train loss: 0.52242924221255, train acc: 0.8176253590548932\n",
      " val loss: 0.8282143638489095, val acc: 0.7277703901554676\n",
      "\n",
      "Epoch 15\n",
      " train loss: 0.4850802251582172, train acc: 0.8297899255369001\n",
      " val loss: 0.83484899617256, val acc: 0.7264627659574469\n",
      "\n",
      "Epoch 16\n",
      " train loss: 0.4903930289435866, train acc: 0.8278924001200325\n",
      " val loss: 0.8526058668785906, val acc: 0.7251329787234042\n",
      "\n",
      "Epoch 17\n",
      " train loss: 0.563731534798141, train acc: 0.8014086576440871\n",
      " val loss: 0.8865681635572555, val acc: 0.7100398936170212\n",
      "\n",
      "Epoch 18\n",
      " train loss: 0.6453318473843813, train acc: 0.7720031339464065\n",
      " val loss: 0.9212328163867302, val acc: 0.6891179077168729\n",
      "\n",
      "Epoch 19\n",
      " train loss: 0.7051515555251016, train acc: 0.7485146252285192\n",
      " val loss: 1.0240562469401258, val acc: 0.664937943346957\n",
      "\n",
      "0.6941679936305732\n"
     ]
    }
   ],
   "source": [
    "net = BasicBlockNet().to(device)\n",
    "optimizer = optim.SGD(net.parameters(), lr=0.1, momentum=0.9)\n",
    "scheduler = optim.lr_scheduler.CosineAnnealingLR(optimizer, T_max = 5, eta_min = 0.0001)\n",
    "tr_loss_log, tr_acc_log, val_loss_log, val_acc_log = train(\n",
    "    net, optimizer, 20, train_loader, val_loader, scheduler\n",
    ")\n",
    "\n",
    "test_loss_log, test_acc_log = test(net, test_loader)\n",
    "print(test_acc_log)"
   ]
  },
  {
   "cell_type": "code",
   "execution_count": 175,
   "metadata": {},
   "outputs": [
    {
     "name": "stdout",
     "output_type": "stream",
     "text": [
      "Epoch 0\n",
      " train loss: 1.6373246716406924, train acc: 0.4041525202324883\n",
      " val loss: 1.4482741021095438, val acc: 0.47548758869475505\n",
      "\n",
      "Epoch 1\n",
      " train loss: 1.356792062793397, train acc: 0.5127644293704896\n",
      " val loss: 1.2721352490972966, val acc: 0.5466533688788718\n",
      "\n",
      "Epoch 2\n",
      " train loss: 1.178714020923461, train acc: 0.579936830718513\n",
      " val loss: 1.122269492453717, val acc: 0.6000221630360217\n",
      "\n",
      "Epoch 3\n",
      " train loss: 1.0465348749753545, train acc: 0.6275667602662849\n",
      " val loss: 1.0648694880465244, val acc: 0.6276595744680851\n",
      "\n",
      "Epoch 4\n",
      " train loss: 0.9435592913758384, train acc: 0.6637788914021452\n",
      " val loss: 0.9867615735277216, val acc: 0.6525709220703612\n",
      "\n",
      "Epoch 5\n",
      " train loss: 0.8618465256647393, train acc: 0.6933598850719236\n",
      " val loss: 0.9660174575257808, val acc: 0.6608820922831271\n",
      "\n",
      "Epoch 6\n",
      " train loss: 0.7914483608776735, train acc: 0.7184765930585495\n",
      " val loss: 0.9189736150680704, val acc: 0.6797650710065314\n",
      "\n",
      "Epoch 7\n",
      " train loss: 0.7296612832075499, train acc: 0.7434667993943042\n",
      " val loss: 0.8847076093896906, val acc: 0.6937056736743197\n",
      "\n",
      "Epoch 8\n",
      " train loss: 0.6920458775224808, train acc: 0.7588469574612717\n",
      " val loss: 0.8764125697156216, val acc: 0.6990469859001485\n",
      "\n",
      "Epoch 9\n",
      " train loss: 0.6683358315793863, train acc: 0.7656168386312899\n",
      " val loss: 0.8597858851260327, val acc: 0.7037898936170213\n",
      "\n",
      "Epoch 10\n",
      " train loss: 0.6621238493941166, train acc: 0.7683509075009627\n",
      " val loss: 0.869119668006897, val acc: 0.7019946808510639\n",
      "\n",
      "Epoch 11\n",
      " train loss: 0.6609683662816419, train acc: 0.7692813071297989\n",
      " val loss: 0.8657946586608887, val acc: 0.7037012412192973\n",
      "\n",
      "Epoch 12\n",
      " train loss: 0.6614618681684491, train acc: 0.7682203251657364\n",
      " val loss: 0.8622226689724212, val acc: 0.7039450353764473\n",
      "\n",
      "Epoch 13\n",
      " train loss: 0.6645542989592229, train acc: 0.7661636524052245\n",
      " val loss: 0.8622648228990271, val acc: 0.7031028369639782\n",
      "\n",
      "Epoch 14\n",
      " train loss: 0.6604835320216428, train acc: 0.7722561373571155\n",
      " val loss: 0.8605404661056844, val acc: 0.701750886440277\n",
      "\n",
      "Epoch 15\n",
      " train loss: 0.6617895142469807, train acc: 0.7707544398482147\n",
      " val loss: 0.8635020480511036, val acc: 0.7036790779296388\n",
      "\n",
      "Epoch 16\n",
      " train loss: 0.6576176942266537, train acc: 0.7690527879341865\n",
      " val loss: 0.8639459894058552, val acc: 0.7036125885679366\n",
      "\n",
      "Epoch 17\n",
      " train loss: 0.6630308456460127, train acc: 0.7680979041992202\n",
      " val loss: 0.8596790233825116, val acc: 0.7039893617021277\n",
      "\n",
      "Epoch 18\n",
      " train loss: 0.6619355713427612, train acc: 0.7705055171218607\n",
      " val loss: 0.8607705737682099, val acc: 0.7027925531914894\n",
      "\n",
      "Epoch 19\n",
      " train loss: 0.6627961099692629, train acc: 0.7665839645282878\n",
      " val loss: 0.8622314512729645, val acc: 0.7027482268658091\n",
      "\n",
      "0.7276074840764332\n"
     ]
    }
   ],
   "source": [
    "## вернуть 20\n",
    "net = BasicBlockNet().to(device)\n",
    "optimizer = optim.SGD(net.parameters(), lr=0.1, momentum=0.9)\n",
    "scheduler = optim.lr_scheduler.PolynomialLR(optimizer, total_iters=10, power=2)\n",
    "tr_loss_log, tr_acc_log, val_loss_log, val_acc_log = train(\n",
    "    net, optimizer, 20, train_loader, val_loader, scheduler\n",
    ")\n",
    "\n",
    "test_loss_log, test_acc_log = test(net, test_loader)\n",
    "print(test_acc_log)"
   ]
  },
  {
   "cell_type": "markdown",
   "metadata": {
    "id": "5a_zMNNVO9Du",
    "pycharm": {
     "name": "#%% md\n"
    }
   },
   "source": [
    "- LinearLR - уменьшает длину шага линейно. Каждую итерацию мы умножаем длину шага на коэффициент (start_factor) в первой эпохе, в других этот коэффициент приближается к end_factor или 1, пока не дойдем до конца total_iters или до last_epoch. \n",
    "- CosineAnnealingLR - использует \"косинувый отжиг\". Длина шага сначала максимальная, далее уменьшается до минимума (eta_min), и снова увеличивается до макимума. Формулы расчета можно посмотреть в документации \n",
    "- PolynomialLR - Уменьшает скорость изменения шага по выбранной степени. Шаг рассчитывается по формуле: lr * (1 - current_step/total_iters) ** power\n",
    "\n",
    "| Метод | Метрика на тестовой выборке |\n",
    "|---|---|\n",
    "| MultiStepLR | 0.7486066878980892 |\n",
    "| LinearLR | 0.7243232484076433 |\n",
    "| CosineAnnealingLR | 0.6941679936305732 |\n",
    "| PolynomialLR | 0.7276074840764332 |\n",
    "\n",
    "Лучше всего себя показал MultiStepLR.\n",
    "\n",
    "\n"
   ]
  },
  {
   "cell_type": "markdown",
   "metadata": {
    "id": "7xFXgl_3_E--",
    "pycharm": {
     "name": "#%% md\n"
    }
   },
   "source": [
    "## 4. Аугментации данных (2 балла)"
   ]
  },
  {
   "cell_type": "markdown",
   "metadata": {
    "id": "5G0Easo9O9Du",
    "pycharm": {
     "name": "#%% md\n"
    }
   },
   "source": [
    "Еще одной стандартной техникой, применяющейся в глубинном обучении, а особенно часто в компьютерном зрении, являются аугментации данных. Суть аугментаций состоит в том, что мы можем некоторым синтетическим образом видоизменять объекты обучающей выборки, тем самым расширяя ее, а также делая итоговую модель более устойчивой к таким изменениям.\n",
    "\n",
    "Простейшая аугментация, которую можно применить к картинкам — разворот картинки по горизонтальной оси. То есть при обучении модели с вероятностью $0.5$ мы будем разворачивать картинку из обучающей выборки."
   ]
  },
  {
   "cell_type": "code",
   "execution_count": 176,
   "metadata": {
    "id": "SzeFpgtfO9Du",
    "pycharm": {
     "name": "#%%\n"
    }
   },
   "outputs": [
    {
     "name": "stderr",
     "output_type": "stream",
     "text": [
      "Clipping input data to the valid range for imshow with RGB data ([0..1] for floats or [0..255] for integers).\n"
     ]
    },
    {
     "data": {
      "image/png": "[encoded data removed]",
      "text/plain": [
       "<Figure size 640x480 with 1 Axes>"
      ]
     },
     "metadata": {},
     "output_type": "display_data"
    },
    {
     "name": "stderr",
     "output_type": "stream",
     "text": [
      "Clipping input data to the valid range for imshow with RGB data ([0..1] for floats or [0..255] for integers).\n"
     ]
    },
    {
     "data": {
      "image/png": "[encoded data removed]",
      "text/plain": [
       "<Figure size 640x480 with 1 Axes>"
      ]
     },
     "metadata": {},
     "output_type": "display_data"
    }
   ],
   "source": [
    "dataiter = iter(train_loader)\n",
    "images, labels = next(dataiter)\n",
    "\n",
    "imshow(torchvision.utils.make_grid(images[:4]))\n",
    "\n",
    "imshow(torchvision.utils.make_grid(transforms.functional.hflip(images[:4])))"
   ]
  },
  {
   "cell_type": "markdown",
   "metadata": {
    "id": "BR4a-XJQO9Du",
    "pycharm": {
     "name": "#%% md\n"
    }
   },
   "source": [
    "Наиболее удобным способом работы с аугментациями в PyTorch является их задание в списке <code>transforms</code>, который затем передается в загрузчик данных. Обучим нашу сеть, применяя горизонтальные повороты:"
   ]
  },
  {
   "cell_type": "code",
   "execution_count": null,
   "metadata": {
    "id": "na0ScBf-_AqX",
    "pycharm": {
     "name": "#%%\n"
    },
    "scrolled": true
   },
   "outputs": [
    {
     "name": "stdout",
     "output_type": "stream",
     "text": [
      "Epoch 0\n",
      " train loss: 1.508199901423899, train acc: 0.4537534277879342\n",
      " val loss: 1.3622797372493338, val acc: 0.4987367021276596\n",
      "\n",
      "Epoch 1\n",
      " train loss: 1.1831460259514273, train acc: 0.5807284865344464\n",
      " val loss: 1.135768611887668, val acc: 0.5990026595744681\n",
      "\n",
      "Epoch 2\n",
      " train loss: 1.0239259128814642, train acc: 0.6406739684301931\n",
      " val loss: 0.9435820356328437, val acc: 0.6717420212765958\n",
      "\n",
      "Epoch 3\n",
      " train loss: 0.9265087349323293, train acc: 0.6754945808616373\n",
      " val loss: 1.003653927813185, val acc: 0.6539450353764473\n",
      "\n",
      "Epoch 4\n",
      " train loss: 0.8526803069838222, train acc: 0.6998196330323297\n",
      " val loss: 0.9034310881127703, val acc: 0.6897606382978724\n",
      "\n",
      "Epoch 5\n",
      " train loss: 0.791357855147374, train acc: 0.7207413815928987\n",
      " val loss: 0.8668549070967004, val acc: 0.7036790779296388\n",
      "\n",
      "Epoch 6\n",
      " train loss: 0.7438237436619711, train acc: 0.7413938038963722\n",
      " val loss: 0.8396691471972364, val acc: 0.7090425531914893\n",
      "\n",
      "Epoch 7\n",
      " train loss: 0.7070335865129719, train acc: 0.7530033951267682\n",
      " val loss: 0.862959416242356, val acc: 0.7088874114320634\n",
      "\n",
      "Epoch 8\n",
      " train loss: 0.662361851557953, train acc: 0.7709054257141824\n",
      " val loss: 0.8584056722356918, val acc: 0.7117021276595744\n",
      "\n",
      "Epoch 9\n",
      " train loss: 0.6261484746087403, train acc: 0.7795646709323584\n",
      " val loss: 0.8247104510347893, val acc: 0.7279033688788719\n",
      "\n",
      "Epoch 10\n",
      " train loss: 0.4559371165209322, train acc: 0.8441213436928702\n",
      " val loss: 0.7494936878376819, val acc: 0.7597739361702127\n",
      "\n",
      "Epoch 11\n",
      " train loss: 0.4054094198852832, train acc: 0.8609460694698354\n",
      " val loss: 0.7457450685348916, val acc: 0.7609929077168729\n",
      "\n",
      "Epoch 12\n",
      " train loss: 0.38241512040987313, train acc: 0.8682546030450783\n",
      " val loss: 0.7368442906978282, val acc: 0.7665558510638298\n",
      "\n",
      "Epoch 13\n",
      " train loss: 0.3668601302331283, train acc: 0.8741144881170019\n",
      " val loss: 0.7340552113157638, val acc: 0.7681072694190005\n",
      "\n",
      "Epoch 14\n",
      " train loss: 0.3509575178407446, train acc: 0.8789297140712494\n",
      " val loss: 0.7361314437490829, val acc: 0.7715647162275111\n",
      "\n",
      "Epoch 15\n",
      " train loss: 0.32653532429194754, train acc: 0.8896048249884541\n",
      " val loss: 0.7408872497842667, val acc: 0.7703679077168728\n",
      "\n",
      "Epoch 16\n",
      " train loss: 0.3199126702993836, train acc: 0.8929836446014139\n",
      " val loss: 0.742044929494249, val acc: 0.7669104609083622\n",
      "\n",
      "Epoch 17\n",
      " train loss: 0.319816058007847, train acc: 0.8927918516739631\n",
      " val loss: 0.7409446655435765, val acc: 0.7705895390916377\n",
      "\n",
      "Epoch 18\n",
      " train loss: 0.31759638950855246, train acc: 0.8923633781821898\n",
      " val loss: 0.7430183102475836, val acc: 0.7701684396317665\n",
      "\n",
      "Epoch 19\n",
      " train loss: 0.31699090926368234, train acc: 0.8926082201152222\n",
      " val loss: 0.7446640992418249, val acc: 0.7695921986661058\n",
      "\n"
     ]
    }
   ],
   "source": [
    "transform = transforms.Compose(\n",
    "    [\n",
    "        transforms.RandomHorizontalFlip(),\n",
    "        transforms.ToTensor(),\n",
    "        transforms.Normalize((0.4914, 0.4822, 0.4465), (0.247, 0.243, 0.261)),\n",
    "    ]\n",
    ")\n",
    "\n",
    "train_loader, val_loader, test_loader = get_cifar10_data(\n",
    "    batch_size=64, transform_train=transform\n",
    ")\n",
    "\n",
    "net = BasicBlockNet().to(device)\n",
    "optimizer = optim.SGD(net.parameters(), lr=0.1, momentum=0.9)\n",
    "scheduler = optim.lr_scheduler.MultiStepLR(optimizer, milestones=[10, 15], gamma=0.1)\n",
    "tr_loss_log, tr_acc_log, val_loss_log, val_acc_log = train(\n",
    "    net, optimizer, 20, train_loader, val_loader, scheduler\n",
    ")"
   ]
  },
  {
   "cell_type": "markdown",
   "metadata": {
    "id": "v3ZIqDQqO9Dv",
    "pycharm": {
     "name": "#%% md\n"
    }
   },
   "source": [
    "Посчитайте точность на тестовой выборке:"
   ]
  },
  {
   "cell_type": "code",
   "execution_count": 178,
   "metadata": {
    "id": "nNJizMkM_Auh",
    "pycharm": {
     "name": "#%%\n"
    }
   },
   "outputs": [
    {
     "name": "stdout",
     "output_type": "stream",
     "text": [
      "0.7684116242038217\n"
     ]
    }
   ],
   "source": [
    "test_loss_log, test_acc_log = test(net, test_loader)\n",
    "print(test_acc_log)"
   ]
  },
  {
   "cell_type": "markdown",
   "metadata": {
    "id": "KndehSCHO9Dv",
    "pycharm": {
     "name": "#%% md\n"
    }
   },
   "source": [
    "**Задание 4.1 (2 балла).** Изучите, какие еще способы аугментаций изображений представлены в <code>torchvision.transforms</code>. Выберите несколько из них, объясните, как они устроены, и обучите модель с ними (по отдельности и вместе). Удалось ли добиться улучшения качества на тестовой выборке?"
   ]
  },
  {
   "cell_type": "code",
   "execution_count": null,
   "metadata": {
    "id": "Np4rgvdZ_QRF",
    "pycharm": {
     "name": "#%%\n"
    }
   },
   "outputs": [
    {
     "name": "stdout",
     "output_type": "stream",
     "text": [
      "Epoch 0\n",
      " train loss: 1.6478929837835337, train acc: 0.3995698942126914\n",
      " val loss: 1.4810066055744253, val acc: 0.4518617021276596\n",
      "\n",
      "Epoch 1\n",
      " train loss: 1.3728114316406808, train acc: 0.5045867067586352\n",
      " val loss: 1.408909560264425, val acc: 0.5062056736743197\n",
      "\n",
      "Epoch 2\n",
      " train loss: 1.2258325235499326, train acc: 0.5596761556386511\n",
      " val loss: 1.176543324298047, val acc: 0.5835106382978723\n",
      "\n",
      "Epoch 3\n",
      " train loss: 1.1178005016264139, train acc: 0.6040904936014625\n",
      " val loss: 1.1479888905870153, val acc: 0.5975398936170213\n",
      "\n",
      "Epoch 4\n",
      " train loss: 1.0239079819082997, train acc: 0.6376052820268453\n",
      " val loss: 1.0352228327000395, val acc: 0.6408244680851064\n",
      "\n",
      "Epoch 5\n",
      " train loss: 0.9675616050986965, train acc: 0.6568825084722892\n",
      " val loss: 1.0149102330207824, val acc: 0.6461657800572984\n",
      "\n",
      "Epoch 6\n",
      " train loss: 0.9141164170322732, train acc: 0.6783755550218893\n",
      " val loss: 0.9682534397916591, val acc: 0.6615248226104898\n",
      "\n",
      "Epoch 7\n",
      " train loss: 0.8737295377298072, train acc: 0.6941311373571155\n",
      " val loss: 0.9605348173608171, val acc: 0.6677748226104898\n",
      "\n",
      "Epoch 8\n",
      " train loss: 0.8326055033769206, train acc: 0.7056019848835752\n",
      " val loss: 0.9819792851488641, val acc: 0.6620124114320634\n",
      "\n",
      "Epoch 9\n",
      " train loss: 0.8063190446475306, train acc: 0.7157098786050702\n",
      " val loss: 0.9813641170237927, val acc: 0.6703900710065314\n",
      "\n",
      "Epoch 10\n",
      " train loss: 0.6354294912906626, train acc: 0.7780425698927159\n",
      " val loss: 0.8176347402816123, val acc: 0.7215647162275112\n",
      "\n",
      "Epoch 11\n",
      " train loss: 0.5869286494564531, train acc: 0.7941654152364573\n",
      " val loss: 0.8189565756219499, val acc: 0.7255540779296388\n",
      "\n",
      "Epoch 12\n",
      " train loss: 0.5641715851845646, train acc: 0.8022533624656022\n",
      " val loss: 0.8105042501967004, val acc: 0.7287677305809995\n",
      "\n",
      "Epoch 13\n",
      " train loss: 0.5518328756693295, train acc: 0.8063830308330124\n",
      " val loss: 0.8166811412953315, val acc: 0.7269503545253835\n",
      "\n",
      "Epoch 14\n",
      " train loss: 0.5371412886562034, train acc: 0.8121776247373229\n",
      " val loss: 0.8211361198983294, val acc: 0.7310283688788718\n",
      "\n",
      "Epoch 15\n",
      " train loss: 0.5122181459634788, train acc: 0.820747094572789\n",
      " val loss: 0.8086026945012681, val acc: 0.7297650710065314\n",
      "\n",
      "Epoch 16\n",
      " train loss: 0.5026157349075652, train acc: 0.8243462719036848\n",
      " val loss: 0.8087267944153319, val acc: 0.7312943263256804\n",
      "\n",
      "Epoch 17\n",
      " train loss: 0.5010132587479064, train acc: 0.8245747910992973\n",
      " val loss: 0.8044180176359542, val acc: 0.7352171986661059\n",
      "\n",
      "Epoch 18\n",
      " train loss: 0.4962122900993776, train acc: 0.827035453136486\n",
      " val loss: 0.795607487445182, val acc: 0.7341312055892133\n",
      "\n",
      "Epoch 19\n",
      " train loss: 0.5020213580981469, train acc: 0.8262642008512939\n",
      " val loss: 0.8035227762891891, val acc: 0.7347517731341909\n",
      "\n",
      "0.7499004777070064\n"
     ]
    }
   ],
   "source": [
    "transform = transforms.Compose(\n",
    "    [\n",
    "        transforms.RandomPerspective(distortion_scale = 0.4, p = 0.5, fill = 1),\n",
    "        transforms.ToTensor(),\n",
    "        transforms.Normalize((0.4914, 0.4822, 0.4465), (0.247, 0.243, 0.261)),\n",
    "    ]\n",
    ")\n",
    "\n",
    "train_loader, val_loader, test_loader = get_cifar10_data(\n",
    "    batch_size=64, transform_train=transform\n",
    ")\n",
    "\n",
    "net = BasicBlockNet().to(device)\n",
    "optimizer = optim.SGD(net.parameters(), lr=0.1, momentum=0.9)\n",
    "scheduler = optim.lr_scheduler.MultiStepLR(optimizer, milestones=[10, 15], gamma=0.1)\n",
    "tr_loss_log, tr_acc_log, val_loss_log, val_acc_log = train(\n",
    "    net, optimizer, 20, train_loader, val_loader, scheduler\n",
    ")\n",
    "\n",
    "test_loss_log, test_acc_log = test(net, test_loader)\n",
    "print(test_acc_log)"
   ]
  },
  {
   "cell_type": "code",
   "execution_count": null,
   "metadata": {},
   "outputs": [
    {
     "name": "stdout",
     "output_type": "stream",
     "text": [
      "Epoch 0\n",
      " train loss: 1.495914384913401, train acc: 0.4605192282735974\n",
      " val loss: 1.3515416472516162, val acc: 0.508798758907521\n",
      "\n",
      "Epoch 1\n",
      " train loss: 1.1718696835272056, train acc: 0.5853519195612431\n",
      " val loss: 1.1468964508239259, val acc: 0.6044769502700643\n",
      "\n",
      "Epoch 2\n",
      " train loss: 0.9970105015817464, train acc: 0.6503737920816899\n",
      " val loss: 0.9948576749639308, val acc: 0.6578679077168729\n",
      "\n",
      "Epoch 3\n",
      " train loss: 0.8965045192995716, train acc: 0.6852433729433273\n",
      " val loss: 1.0550646206165881, val acc: 0.6391400710065314\n",
      "\n",
      "Epoch 4\n",
      " train loss: 0.8091552763686973, train acc: 0.7139919038446555\n",
      " val loss: 0.9673087533484114, val acc: 0.6694592199427016\n",
      "\n",
      "Epoch 5\n",
      " train loss: 0.7237654960351627, train acc: 0.7440380973833353\n",
      " val loss: 0.9271919942916708, val acc: 0.6850842199427016\n",
      "\n",
      "Epoch 6\n",
      " train loss: 0.6654898788527989, train acc: 0.7671552625173189\n",
      " val loss: 0.9957340813697653, val acc: 0.6681515957446809\n",
      "\n",
      "Epoch 7\n",
      " train loss: 0.6104475428678872, train acc: 0.784918549182864\n",
      " val loss: 0.909632453766275, val acc: 0.7086657800572984\n",
      "\n",
      "Epoch 8\n",
      " train loss: 0.5496617352395868, train acc: 0.8075868372943327\n",
      " val loss: 0.9649019265428502, val acc: 0.6980274821849579\n",
      "\n",
      "Epoch 9\n",
      " train loss: 0.5046244925347717, train acc: 0.8234077109061386\n",
      " val loss: 0.997516086253714, val acc: 0.6975177305809995\n",
      "\n",
      "Epoch 10\n",
      " train loss: 0.29107665598828353, train acc: 0.902291721029299\n",
      " val loss: 0.9246808708982265, val acc: 0.7354166667512123\n",
      "\n",
      "Epoch 11\n",
      " train loss: 0.2264151729275583, train acc: 0.9243968725204468\n",
      " val loss: 0.9625702549168405, val acc: 0.7361480497299356\n",
      "\n",
      "Epoch 12\n",
      " train loss: 0.19634480326278117, train acc: 0.9353535518567785\n",
      " val loss: 0.9924566893501484, val acc: 0.7374778369639782\n",
      "\n",
      "Epoch 13\n",
      " train loss: 0.17671613475576833, train acc: 0.9428293941443755\n",
      " val loss: 1.015562043608503, val acc: 0.7371675531914894\n",
      "\n",
      "Epoch 14\n",
      " train loss: 0.15996475085289213, train acc: 0.9480078023138169\n",
      " val loss: 1.0529070516850085, val acc: 0.7394946808510638\n",
      "\n",
      "Epoch 15\n",
      " train loss: 0.13660023859965953, train acc: 0.9590583377172132\n",
      " val loss: 1.0510163809390778, val acc: 0.7409574468085106\n",
      "\n",
      "Epoch 16\n",
      " train loss: 0.1329702752756408, train acc: 0.9606049229719521\n",
      " val loss: 1.053401951143082, val acc: 0.7400709220703612\n",
      "\n",
      "Epoch 17\n",
      " train loss: 0.13034353469936025, train acc: 0.9613068032962094\n",
      " val loss: 1.0621225340569274, val acc: 0.7423758864402771\n",
      "\n",
      "Epoch 18\n",
      " train loss: 0.12736952518005693, train acc: 0.9624820449670446\n",
      " val loss: 1.058504149507969, val acc: 0.7410239361702128\n",
      "\n",
      "Epoch 19\n",
      " train loss: 0.1268872814814831, train acc: 0.9630002938415276\n",
      " val loss: 1.0741474678541751, val acc: 0.7395168438870856\n",
      "\n",
      "0.7375597133757962\n"
     ]
    }
   ],
   "source": [
    "transform = transforms.Compose(\n",
    "    [\n",
    "        transforms.RandomPosterize(3, p = 0.5),\n",
    "        transforms.ToTensor(),\n",
    "        transforms.Normalize((0.4914, 0.4822, 0.4465), (0.247, 0.243, 0.261)),\n",
    "    ]\n",
    ")\n",
    "\n",
    "train_loader, val_loader, test_loader = get_cifar10_data(\n",
    "    batch_size=64, transform_train=transform\n",
    ")\n",
    "\n",
    "net = BasicBlockNet().to(device)\n",
    "optimizer = optim.SGD(net.parameters(), lr=0.1, momentum=0.9)\n",
    "scheduler = optim.lr_scheduler.MultiStepLR(optimizer, milestones=[10, 15], gamma=0.1)\n",
    "tr_loss_log, tr_acc_log, val_loss_log, val_acc_log = train(\n",
    "    net, optimizer, 20, train_loader, val_loader, scheduler\n",
    ")\n",
    "\n",
    "test_loss_log, test_acc_log = test(net, test_loader)\n",
    "print(test_acc_log)"
   ]
  },
  {
   "cell_type": "code",
   "execution_count": null,
   "metadata": {},
   "outputs": [
    {
     "name": "stdout",
     "output_type": "stream",
     "text": [
      "Epoch 0\n",
      " train loss: 1.5579698958606127, train acc: 0.43590852705390626\n",
      " val loss: 1.4148346931376357, val acc: 0.4750886525245423\n",
      "\n",
      "Epoch 1\n",
      " train loss: 1.249313939424058, train acc: 0.5578888091352348\n",
      " val loss: 1.1929379016795056, val acc: 0.5878324468085107\n",
      "\n",
      "Epoch 2\n",
      " train loss: 1.0859767887230547, train acc: 0.616540709077985\n",
      " val loss: 1.0560016791871254, val acc: 0.6334219859001484\n",
      "\n",
      "Epoch 3\n",
      " train loss: 0.982203748478968, train acc: 0.6556501371115173\n",
      " val loss: 1.0629612225167295, val acc: 0.6300975178150421\n",
      "\n",
      "Epoch 4\n",
      " train loss: 0.8911463911398237, train acc: 0.6867409897678731\n",
      " val loss: 1.0033812383387952, val acc: 0.6546985816448293\n",
      "\n",
      "Epoch 5\n",
      " train loss: 0.8167077377029921, train acc: 0.7123147362546903\n",
      " val loss: 0.9074490805889698, val acc: 0.6874778369639782\n",
      "\n",
      "Epoch 6\n",
      " train loss: 0.7534375878857956, train acc: 0.7365867393108347\n",
      " val loss: 0.9561193666559584, val acc: 0.6741578013338941\n",
      "\n",
      "Epoch 7\n",
      " train loss: 0.7106554796425473, train acc: 0.7499795964692585\n",
      " val loss: 0.9405602642830382, val acc: 0.6870567375041069\n",
      "\n",
      "Epoch 8\n",
      " train loss: 0.6583786274985813, train acc: 0.7685794266965751\n",
      " val loss: 0.9707959689992539, val acc: 0.6811835106382979\n",
      "\n",
      "Epoch 9\n",
      " train loss: 0.6020512688203529, train acc: 0.7893746734973064\n",
      " val loss: 0.941355454160812, val acc: 0.6950576241980208\n",
      "\n",
      "Epoch 10\n",
      " train loss: 0.40759068670285903, train acc: 0.8603788521651594\n",
      " val loss: 0.8630326906417278, val acc: 0.7282358156873825\n",
      "\n",
      "Epoch 11\n",
      " train loss: 0.3506196473863051, train acc: 0.880321232666699\n",
      " val loss: 0.8900425394798847, val acc: 0.7278812055892133\n",
      "\n",
      "Epoch 12\n",
      " train loss: 0.32811277858245524, train acc: 0.886658559660589\n",
      " val loss: 0.8987615273353902, val acc: 0.7290558510638298\n",
      "\n",
      "Epoch 13\n",
      " train loss: 0.30794046149066423, train acc: 0.8941058370487346\n",
      " val loss: 0.8996944686199756, val acc: 0.730873226865809\n",
      "\n",
      "Epoch 14\n",
      " train loss: 0.29549705434651874, train acc: 0.8982926351060815\n",
      " val loss: 0.9227767160598268, val acc: 0.7320921986661059\n",
      "\n",
      "Epoch 15\n",
      " train loss: 0.26851032107687084, train acc: 0.9107183663675075\n",
      " val loss: 0.9129143122662889, val acc: 0.7344858156873825\n",
      "\n",
      "Epoch 16\n",
      " train loss: 0.26186992093185185, train acc: 0.9133422564326954\n",
      " val loss: 0.9062784737729012, val acc: 0.7352615247381494\n",
      "\n",
      "Epoch 17\n",
      " train loss: 0.26181939520772674, train acc: 0.9117385413790534\n",
      " val loss: 0.9174955757374459, val acc: 0.7351950353764473\n",
      "\n",
      "Epoch 18\n",
      " train loss: 0.2595934541231971, train acc: 0.9130239618543733\n",
      " val loss: 0.9180501343087947, val acc: 0.7372118795171697\n",
      "\n",
      "Epoch 19\n",
      " train loss: 0.2642862601188681, train acc: 0.9117875098092465\n",
      " val loss: 0.9201328616193001, val acc: 0.7320478723404256\n",
      "\n",
      "0.7563694267515924\n"
     ]
    }
   ],
   "source": [
    "transform = transforms.Compose(\n",
    "    [\n",
    "        transforms.ToTensor(),\n",
    "        transforms.Normalize((0.4914, 0.4822, 0.4465), (0.247, 0.243, 0.261)),\n",
    "        transforms.RandomErasing(p=0.5, scale=(0.01, 0.22), ratio=(0.2, 3), value = 'random')\n",
    "    ]\n",
    ")\n",
    "\n",
    "train_loader, val_loader, test_loader = get_cifar10_data(\n",
    "    batch_size=64, transform_train=transform\n",
    ")\n",
    "\n",
    "net = BasicBlockNet().to(device)\n",
    "optimizer = optim.SGD(net.parameters(), lr=0.1, momentum=0.9)\n",
    "scheduler = optim.lr_scheduler.MultiStepLR(optimizer, milestones=[10, 15], gamma=0.1)\n",
    "tr_loss_log, tr_acc_log, val_loss_log, val_acc_log = train(\n",
    "    net, optimizer, 20, train_loader, val_loader, scheduler\n",
    ")\n",
    "\n",
    "test_loss_log, test_acc_log = test(net, test_loader)\n",
    "print(test_acc_log)"
   ]
  },
  {
   "cell_type": "code",
   "execution_count": null,
   "metadata": {},
   "outputs": [
    {
     "name": "stdout",
     "output_type": "stream",
     "text": [
      "Epoch 0\n",
      " train loss: 1.6188317441417268, train acc: 0.4117262992715051\n",
      " val loss: 1.4946248470468724, val acc: 0.45283687939035133\n",
      "\n",
      "Epoch 1\n",
      " train loss: 1.364722389189809, train acc: 0.5084960171901766\n",
      " val loss: 1.2977772334788709, val acc: 0.5384086880278081\n",
      "\n",
      "Epoch 2\n",
      " train loss: 1.219868069375019, train acc: 0.5652871180931872\n",
      " val loss: 1.173874541546436, val acc: 0.5848182624958931\n",
      "\n",
      "Epoch 3\n",
      " train loss: 1.1065250388882932, train acc: 0.607008194029876\n",
      " val loss: 1.1506544399768748, val acc: 0.5935062055892133\n",
      "\n",
      "Epoch 4\n",
      " train loss: 1.0272059710849573, train acc: 0.6340836380255942\n",
      " val loss: 1.0465185140041595, val acc: 0.6348182624958931\n",
      "\n",
      "Epoch 5\n",
      " train loss: 0.9504047191992974, train acc: 0.6677086053644281\n",
      " val loss: 0.9838389954668411, val acc: 0.6530806736743197\n",
      "\n",
      "Epoch 6\n",
      " train loss: 0.8966058738379853, train acc: 0.6854678114545847\n",
      " val loss: 1.0377790983687056, val acc: 0.6361037234042554\n",
      "\n",
      "Epoch 7\n",
      " train loss: 0.8516763934705549, train acc: 0.697550763922592\n",
      " val loss: 1.007391194840695, val acc: 0.6582003545253835\n",
      "\n",
      "Epoch 8\n",
      " train loss: 0.8116254176147677, train acc: 0.7150161595405564\n",
      " val loss: 1.013152242594577, val acc: 0.6602393617021277\n",
      "\n",
      "Epoch 9\n",
      " train loss: 0.7838385056642989, train acc: 0.7262584878714037\n",
      " val loss: 0.9737294039827712, val acc: 0.6763297872340426\n",
      "\n",
      "Epoch 10\n",
      " train loss: 0.5879463851451874, train acc: 0.795320253376551\n",
      " val loss: 0.8310609652640971, val acc: 0.7217863476022761\n",
      "\n",
      "Epoch 11\n",
      " train loss: 0.5451385044310603, train acc: 0.808578447406427\n",
      " val loss: 0.8348004880103659, val acc: 0.7254210992062345\n",
      "\n",
      "Epoch 12\n",
      " train loss: 0.5144047678279703, train acc: 0.821216375017079\n",
      " val loss: 0.8194586977045587, val acc: 0.7283466311211282\n",
      "\n",
      "Epoch 13\n",
      " train loss: 0.5018862615010856, train acc: 0.823893314196815\n",
      " val loss: 0.8291945972341173, val acc: 0.7313829787234043\n",
      "\n",
      "Epoch 14\n",
      " train loss: 0.49074354909455753, train acc: 0.8280515473547104\n",
      " val loss: 0.838096551311777, val acc: 0.7280363476022761\n",
      "\n",
      "Epoch 15\n",
      " train loss: 0.4693277081852639, train acc: 0.8370046030450783\n",
      " val loss: 0.8188436392773973, val acc: 0.7294326241980208\n",
      "\n",
      "Epoch 16\n",
      " train loss: 0.45903565934850704, train acc: 0.8420075411334552\n",
      " val loss: 0.8192428568576244, val acc: 0.7343528369639782\n",
      "\n",
      "Epoch 17\n",
      " train loss: 0.4528463909187962, train acc: 0.8429461021310015\n",
      " val loss: 0.8277464355560059, val acc: 0.7285239361702127\n",
      "\n",
      "Epoch 18\n",
      " train loss: 0.4579189926440363, train acc: 0.8419544920189072\n",
      " val loss: 0.8239495651519045, val acc: 0.7320921986661059\n",
      "\n",
      "Epoch 19\n",
      " train loss: 0.4573143069552329, train acc: 0.8419544920189072\n",
      " val loss: 0.8300759934364481, val acc: 0.7297429077168729\n",
      "\n",
      "0.7551751592356688\n"
     ]
    }
   ],
   "source": [
    "transform = transforms.Compose(\n",
    "    [\n",
    "        transforms.RandomChoice([\n",
    "            transforms.RandomPerspective(distortion_scale = 0.4, p = 0.5, fill = 1),\n",
    "            transforms.RandomPosterize(3, p = 0.5),\n",
    "            transforms.ElasticTransform(alpha = 50., sigma = 5.)\n",
    "        ],p = [0.3, 0.3, 0.3]), \n",
    "        transforms.ToTensor(),\n",
    "        transforms.Normalize((0.4914, 0.4822, 0.4465), (0.247, 0.243, 0.261)),\n",
    "    ]\n",
    ")\n",
    "\n",
    "\n",
    "train_loader, val_loader, test_loader = get_cifar10_data(\n",
    "    batch_size=64, transform_train=transform\n",
    ")\n",
    "\n",
    "net = BasicBlockNet().to(device)\n",
    "optimizer = optim.SGD(net.parameters(), lr=0.1, momentum=0.9)\n",
    "scheduler = optim.lr_scheduler.MultiStepLR(optimizer, milestones=[10, 15], gamma=0.1)\n",
    "tr_loss_log, tr_acc_log, val_loss_log, val_acc_log = train(\n",
    "    net, optimizer, 20, train_loader, val_loader, scheduler\n",
    ")\n",
    "\n",
    "test_loss_log, test_acc_log = test(net, test_loader)\n",
    "print(test_acc_log)"
   ]
  },
  {
   "cell_type": "markdown",
   "metadata": {
    "id": "4K-MptLiO9Dv",
    "pycharm": {
     "name": "#%% md\n"
    }
   },
   "source": [
    "Your answers here:\n",
    "- RandomPerspective - меняет случайно перспективу изображения. Параметры: distortion_scale - степень искажения, p - вероятность трансформации, fill - каким пискелем заполнять пустую область.\n",
    "- RandomPosterize - уменьшает кол-во бит каждого цветного канала. Параметры: bits - кол-во бит для сохранения в каждом цветовом канале, p - вероятность трансформации.\n",
    "- RandomErasing - случайно выбирает участок и удаляет его на фотографии, работает только с тензорами. Параметры: p - вероятность трансформации, scale - диапазон какую часть изображения можно удалять в сравнении с входным, ratio - диапазон соотношения сторон удаляемой области, value - позволяет выбрать удалять все пиксели или из цветового канала определенного или рандомно.\n",
    "- ElasticTransform - Создает эффект воды на картинке. Параметры: alpha - управляет силой смещения, sigma - управляет плавностью изменений.\n",
    "\n",
    "| Метод | Метрика на тестовой выборке |\n",
    "|---|---|\n",
    "| RandomHorizontalFlip | 0.7684116242038217 |\n",
    "| RandomPerspective | 0.7499004777070064 |\n",
    "| RandomPosterize | 0.7375597133757962 |\n",
    "| RandomErasing | 0.7563694267515924 |\n",
    "| Все вместе (+ ElasticTransform) | 0.7551751592356688 |\n",
    "\n",
    "Лучшее качество получилось и исходных трансформаций - RandomHorizontalFlip. Далее RandomErasing и у всех вместе."
   ]
  },
  {
   "cell_type": "markdown",
   "metadata": {
    "id": "HCENjLw5O9Dv",
    "pycharm": {
     "name": "#%% md\n"
    }
   },
   "source": [
    "## Бонус. Логирование в wandb (1 балл)"
   ]
  },
  {
   "cell_type": "markdown",
   "metadata": {
    "id": "xOyzc1mnO9Dv",
    "pycharm": {
     "name": "#%% md\n"
    }
   },
   "source": [
    "На практике специалиста по глубинному обучению часто встречаются ситуации, когда нейросеть учится на каком-то удаленном сервере. И обычно вам хочется отслеживать прогресс обучения, особенно когда время обучения модели исчисляется днями или неделями. Для таких целей существует несколько инструментов. Вероятно, самый популярный из них — [wandb](https://wandb.ai/site).\n",
    "\n",
    "Ваша задача состоит в том, чтобы разобраться как им пользоваться, и повторить задания 2.1 и 2.2 с его использованием. Обучение вы можете запускать в этом же ноутбуке, но теперь вам необходимо через wandb логировать значения функции потерь и точности на обучающей выборке и на валидационной. Результатом работы должны быть ваш код и публичная ссылка на страничку с графиками, идентичными графикам в задании 2.2.\n",
    "\n",
    "Если вас смущает, что WandB грозится забанить вас, то можете разобраться с любым его аналогом и приложить ссылку на аналог."
   ]
  },
  {
   "cell_type": "code",
   "execution_count": 185,
   "metadata": {},
   "outputs": [],
   "source": [
    "import wandb\n",
    "\n",
    "def test(model, loader):\n",
    "    loss_log = []\n",
    "    acc_log = []\n",
    "    model.eval()\n",
    "    ce = nn.CrossEntropyLoss()\n",
    "    for data, target in loader:\n",
    "\n",
    "        # <your code here>\n",
    "        pred = model(data.to(device))\n",
    "        loss = ce(pred, target.to(device))\n",
    "\n",
    "        loss_log.append(loss.item())\n",
    "\n",
    "        # <your code here>\n",
    "        pred_classes = torch.argmax(pred.cpu(), dim=-1)\n",
    "\n",
    "        acc = (pred_classes == target).sum() / len(target)\n",
    "\n",
    "        acc_log.append(acc.item())\n",
    "\n",
    "    return np.mean(loss_log), np.mean(acc_log)\n",
    "\n",
    "\n",
    "def train_epoch(model, optimizer, train_loader):\n",
    "    loss_log = []\n",
    "    acc_log = []\n",
    "    model.train()\n",
    "    ce = nn.CrossEntropyLoss()\n",
    "    for data, target in train_loader:\n",
    "\n",
    "        # <your code here>\n",
    "        pred = model(data.to(device))\n",
    "        \n",
    "        loss = ce(pred, target.to(device))\n",
    "\n",
    "        loss.backward()\n",
    "        optimizer.step()\n",
    "        optimizer.zero_grad(set_to_none=True)\n",
    "\n",
    "        loss_log.append(loss.item())\n",
    "\n",
    "        # <your code here>\n",
    "\n",
    "        pred_classes = torch.argmax(pred.cpu(), dim=-1)\n",
    "\n",
    "    \n",
    "        acc = (pred_classes == target).sum() / len(target)\n",
    "\n",
    "        acc_log.append(acc.item())\n",
    "\n",
    "        wandb.log(\n",
    "            {\n",
    "                \"train loss\": loss.item(),\n",
    "                \"train accuracy\": acc.item(),\n",
    "            }\n",
    "        )\n",
    "\n",
    "    return loss_log, acc_log\n",
    "\n",
    "\n",
    "def train(model, optimizer, n_epochs, train_loader, val_loader, scheduler=None):\n",
    "    train_loss_log, train_acc_log, val_loss_log, val_acc_log = [], [], [], []\n",
    "\n",
    "    for epoch in range(n_epochs):\n",
    "        train_loss, train_acc = train_epoch(model, optimizer, train_loader)\n",
    "        val_loss, val_acc = test(model, val_loader)\n",
    "\n",
    "        train_loss_log.extend(train_loss)\n",
    "        train_acc_log.extend(train_acc)\n",
    "\n",
    "        val_loss_log.append(val_loss)\n",
    "        val_acc_log.append(val_acc)\n",
    "\n",
    "        wandb.log(\n",
    "                {\n",
    "                    \"mean val loss\": val_loss,\n",
    "                    \"mean val accuracy\": val_acc\n",
    "                }\n",
    "            )\n",
    "\n",
    "        print(f\"Epoch {epoch}\")\n",
    "        print(f\" train loss: {np.mean(train_loss)}, train acc: {np.mean(train_acc)}\")\n",
    "        print(f\" val loss: {val_loss}, val acc: {val_acc}\\n\")\n",
    "\n",
    "        if scheduler is not None:\n",
    "            scheduler.step()\n",
    "\n",
    "    return train_loss_log, train_acc_log, val_loss_log, val_acc_log\n",
    "\n",
    "def plot_history(train_history, val_history, title=\"loss\"):\n",
    "    plt.figure()\n",
    "    plt.title(title)\n",
    "    plt.plot(train_history, label=\"train\")\n",
    "\n",
    "    plt.plot(np.repeat(val_history, int(len(train_history) / len(val_history))),  label=\"val\")\n",
    "\n",
    "    plt.xlabel(\"batch\")\n",
    "\n",
    "    plt.legend(loc=\"best\")\n",
    "    plt.grid()\n",
    "\n",
    "    plt.show()"
   ]
  },
  {
   "cell_type": "code",
   "execution_count": null,
   "metadata": {
    "id": "m5gSTLAr_QS4",
    "pycharm": {
     "name": "#%%\n"
    }
   },
   "outputs": [
    {
     "name": "stderr",
     "output_type": "stream",
     "text": [
      "wandb: WARNING Using legacy-service, which is deprecated. If this is unintentional, you can fix it by ensuring you do not call `wandb.require('legacy-service')` and do not set the WANDB_X_REQUIRE_LEGACY_SERVICE environment variable.\n",
      "wandb: No netrc file found, creating one.\n",
      "wandb: Appending key for api.wandb.ai to your netrc file: C:\\Users\\DARYA\\_netrc\n",
      "wandb: W&B API key is configured. Use `wandb login --relogin` to force relogin\n"
     ]
    }
   ],
   "source": [
    "!wandb login "
   ]
  },
  {
   "cell_type": "code",
   "execution_count": 186,
   "metadata": {},
   "outputs": [
    {
     "data": {
      "text/html": [
       "Finishing previous runs because reinit is set to 'default'."
      ],
      "text/plain": [
       "<IPython.core.display.HTML object>"
      ]
     },
     "metadata": {},
     "output_type": "display_data"
    },
    {
     "data": {
      "text/html": [],
      "text/plain": [
       "<IPython.core.display.HTML object>"
      ]
     },
     "metadata": {},
     "output_type": "display_data"
    },
    {
     "data": {
      "text/html": [
       "<br>    <style><br>        .wandb-row {<br>            display: flex;<br>            flex-direction: row;<br>            flex-wrap: wrap;<br>            justify-content: flex-start;<br>            width: 100%;<br>        }<br>        .wandb-col {<br>            display: flex;<br>            flex-direction: column;<br>            flex-basis: 100%;<br>            flex: 1;<br>            padding: 10px;<br>        }<br>    </style><br><div class=\"wandb-row\"><div class=\"wandb-col\"><h3>Run history:</h3><br/><table class=\"wandb\"><tr><td>mean val accuracy</td><td>▁▃▄▅▆▇▆▇█▇█▇▇███████</td></tr><tr><td>mean val loss</td><td>█▅▄▄▃▂▃▁▁▂▁▂▂▂▂▂▃▃▂▃</td></tr><tr><td>train accuracy</td><td>▁▂▂▄▄▆▅▃▄▅▅▇▆▅▄▆▄▆▇▅▇▇▆▇▅▆▆▅▆▇▆█▇▇▇█▇█▇▇</td></tr><tr><td>train loss</td><td>▇▆█▆▄▄▄▅▄▄▄▄▄▃▅▃▂▄▄▃▂▃▁▂▃▂▂▂▂▁▃▁▁▂▂▁▂▂▂▁</td></tr></table><br/></div><div class=\"wandb-col\"><h3>Run summary:</h3><br/><table class=\"wandb\"><tr><td>mean val accuracy</td><td>0.69468</td></tr><tr><td>mean val loss</td><td>1.05991</td></tr><tr><td>train accuracy</td><td>0.89286</td></tr><tr><td>train loss</td><td>0.31846</td></tr></table><br/></div></div>"
      ],
      "text/plain": [
       "<IPython.core.display.HTML object>"
      ]
     },
     "metadata": {},
     "output_type": "display_data"
    },
    {
     "data": {
      "text/html": [
       " View run <strong style=\"color:#cdcd00\">devout-bee-5</strong> at: <a href='https://wandb.ai/gorodbs-hse-university/pytorch-demo/runs/kak3ouml' target=\"_blank\">https://wandb.ai/gorodbs-hse-university/pytorch-demo/runs/kak3ouml</a><br> View project at: <a href='https://wandb.ai/gorodbs-hse-university/pytorch-demo' target=\"_blank\">https://wandb.ai/gorodbs-hse-university/pytorch-demo</a><br>Synced 5 W&B file(s), 0 media file(s), 0 artifact file(s) and 0 other file(s)"
      ],
      "text/plain": [
       "<IPython.core.display.HTML object>"
      ]
     },
     "metadata": {},
     "output_type": "display_data"
    },
    {
     "data": {
      "text/html": [
       "Find logs at: <code>.\\wandb\\run-20250424_033116-kak3ouml\\logs</code>"
      ],
      "text/plain": [
       "<IPython.core.display.HTML object>"
      ]
     },
     "metadata": {},
     "output_type": "display_data"
    },
    {
     "data": {
      "text/html": [
       "creating run (0.1s)"
      ],
      "text/plain": [
       "<IPython.core.display.HTML object>"
      ]
     },
     "metadata": {},
     "output_type": "display_data"
    },
    {
     "data": {
      "text/html": [
       "Tracking run with wandb version 0.19.10"
      ],
      "text/plain": [
       "<IPython.core.display.HTML object>"
      ]
     },
     "metadata": {},
     "output_type": "display_data"
    },
    {
     "data": {
      "text/html": [
       "Run data is saved locally in <code>c:\\Users\\DARYA\\Desktop\\Stud\\DL\\HW\\HW2\\wandb\\run-20250424_201237-667g5jxt</code>"
      ],
      "text/plain": [
       "<IPython.core.display.HTML object>"
      ]
     },
     "metadata": {},
     "output_type": "display_data"
    },
    {
     "data": {
      "text/html": [
       "Syncing run <strong><a href='https://wandb.ai/gorodbs-hse-university/pytorch-demo/runs/667g5jxt' target=\"_blank\">comic-firefly-6</a></strong> to <a href='https://wandb.ai/gorodbs-hse-university/pytorch-demo' target=\"_blank\">Weights & Biases</a> (<a href='https://wandb.me/developer-guide' target=\"_blank\">docs</a>)<br>"
      ],
      "text/plain": [
       "<IPython.core.display.HTML object>"
      ]
     },
     "metadata": {},
     "output_type": "display_data"
    },
    {
     "data": {
      "text/html": [
       " View project at <a href='https://wandb.ai/gorodbs-hse-university/pytorch-demo' target=\"_blank\">https://wandb.ai/gorodbs-hse-university/pytorch-demo</a>"
      ],
      "text/plain": [
       "<IPython.core.display.HTML object>"
      ]
     },
     "metadata": {},
     "output_type": "display_data"
    },
    {
     "data": {
      "text/html": [
       " View run at <a href='https://wandb.ai/gorodbs-hse-university/pytorch-demo/runs/667g5jxt' target=\"_blank\">https://wandb.ai/gorodbs-hse-university/pytorch-demo/runs/667g5jxt</a>"
      ],
      "text/plain": [
       "<IPython.core.display.HTML object>"
      ]
     },
     "metadata": {},
     "output_type": "display_data"
    },
    {
     "name": "stdout",
     "output_type": "stream",
     "text": [
      "Epoch 0\n",
      " train loss: 1.6345226954280567, train acc: 0.40245902979613657\n",
      " val loss: 1.4302302659826076, val acc: 0.4862145389648194\n",
      "\n",
      "Epoch 1\n",
      " train loss: 1.3554941654423256, train acc: 0.5147068425331952\n",
      " val loss: 1.244580906249107, val acc: 0.5500664893617021\n",
      "\n",
      "Epoch 2\n",
      " train loss: 1.1829582587892438, train acc: 0.5781739684301931\n",
      " val loss: 1.1374637187795436, val acc: 0.5935726949509154\n",
      "\n",
      "Epoch 3\n",
      " train loss: 1.0688863763861507, train acc: 0.622380190619167\n",
      " val loss: 1.1462085711195114, val acc: 0.6013297872340425\n",
      "\n",
      "Epoch 4\n",
      " train loss: 0.9958054071370601, train acc: 0.6478315160305016\n",
      " val loss: 1.042030344364491, val acc: 0.6372118795171697\n",
      "\n",
      "Epoch 5\n",
      " train loss: 0.9269804653781424, train acc: 0.6763841734289905\n",
      " val loss: 1.0352514586550123, val acc: 0.644658688027808\n",
      "\n",
      "Epoch 6\n",
      " train loss: 0.8747588597660308, train acc: 0.6922132084095064\n",
      " val loss: 1.016596083438143, val acc: 0.6440159574468085\n",
      "\n",
      "Epoch 7\n",
      " train loss: 0.8263989140499226, train acc: 0.7094827305246315\n",
      " val loss: 0.9284936008301187, val acc: 0.6843085106382979\n",
      "\n",
      "Epoch 8\n",
      " train loss: 0.7769775029946071, train acc: 0.7246629341864717\n",
      " val loss: 0.9460895507893664, val acc: 0.6796764183551707\n",
      "\n",
      "Epoch 9\n",
      " train loss: 0.7470826186798173, train acc: 0.7353992556959009\n",
      " val loss: 0.965112835295657, val acc: 0.6792996454746165\n",
      "\n",
      "Epoch 10\n",
      " train loss: 0.7170035178744161, train acc: 0.7487961935386798\n",
      " val loss: 0.9458707629366124, val acc: 0.6829565603682335\n",
      "\n",
      "Epoch 11\n",
      " train loss: 0.6804188299767496, train acc: 0.760316009386366\n",
      " val loss: 0.9470311441320054, val acc: 0.6882757093044037\n",
      "\n",
      "Epoch 12\n",
      " train loss: 0.64821197226017, train acc: 0.7710931378483118\n",
      " val loss: 0.9556904187861909, val acc: 0.6823138297872341\n",
      "\n",
      "Epoch 13\n",
      " train loss: 0.6195847183411475, train acc: 0.779650365630713\n",
      " val loss: 0.9503188337417359, val acc: 0.6959219859001484\n",
      "\n",
      "Epoch 14\n",
      " train loss: 0.5796444260224128, train acc: 0.7975687189555474\n",
      " val loss: 1.0127295580316098, val acc: 0.6945921986661059\n",
      "\n",
      "Epoch 15\n",
      " train loss: 0.5658781068634507, train acc: 0.7996906829926388\n",
      " val loss: 0.9962845358442753, val acc: 0.6910460992062345\n",
      "\n",
      "Epoch 16\n",
      " train loss: 0.5387727912971699, train acc: 0.8076113215094293\n",
      " val loss: 0.9960664352203937, val acc: 0.6924202127659574\n",
      "\n",
      "Epoch 17\n",
      " train loss: 0.5155597013681854, train acc: 0.8216611713552388\n",
      " val loss: 1.0181521537456106, val acc: 0.6945700353764473\n",
      "\n",
      "Epoch 18\n",
      " train loss: 0.4976785282657177, train acc: 0.8231832723948812\n",
      " val loss: 0.9753513738195947, val acc: 0.7034131204828303\n",
      "\n",
      "Epoch 19\n",
      " train loss: 0.4728546597513028, train acc: 0.8347683795191471\n",
      " val loss: 1.0375073265522083, val acc: 0.6945035460147452\n",
      "\n",
      "0.7183519108280255\n"
     ]
    },
    {
     "data": {
      "image/png": "[encoded data removed]",
      "text/plain": [
       "<Figure size 640x480 with 1 Axes>"
      ]
     },
     "metadata": {},
     "output_type": "display_data"
    },
    {
     "data": {
      "image/png": "[encoded data removed]",
      "text/plain": [
       "<Figure size 640x480 with 1 Axes>"
      ]
     },
     "metadata": {},
     "output_type": "display_data"
    }
   ],
   "source": [
    "import wandb\n",
    "\n",
    "wandb.init(project=\"pytorch-demo\")\n",
    "\n",
    "net = BasicBlockNet().to(device)\n",
    "optimizer = optim.SGD(net.parameters(), lr=0.1, momentum=0.9)\n",
    "\n",
    "wandb.watch(net)\n",
    "\n",
    "train_loss_log, train_acc_log, val_loss_log, val_acc_log = train(\n",
    "    net, optimizer, 20, train_loader, val_loader\n",
    ")\n",
    "\n",
    "test_loss_log, test_acc_log = test(net, test_loader)\n",
    "\n",
    "print(test_acc_log)\n",
    "\n",
    "plot_history(train_loss_log, val_loss_log)\n",
    "plot_history(train_acc_log, val_acc_log, 'acc')"
   ]
  },
  {
   "cell_type": "markdown",
   "metadata": {},
   "source": [
    "На всякий случай прикладываю графики с wandb:\n",
    "\n",
    "\n",
    "https://api.wandb.ai/links/gorodbs-hse-university/l063c3qb"
   ]
  },
  {
   "attachments": {
    "image.png": {
     "image/png": "[encoded data removed]"
    }
   },
   "cell_type": "markdown",
   "metadata": {},
   "source": [
    "![image.png](attachment:image.png)"
   ]
  }
 ],
 "metadata": {
  "accelerator": "GPU",
  "colab": {
   "collapsed_sections": [],
   "provenance": []
  },
  "kernelspec": {
   "display_name": "base",
   "language": "python",
   "name": "python3"
  },
  "language_info": {
   "codemirror_mode": {
    "name": "ipython",
    "version": 3
   },
   "file_extension": ".py",
   "mimetype": "text/x-python",
   "name": "python",
   "nbconvert_exporter": "python",
   "pygments_lexer": "ipython3",
   "version": "3.11.4"
  },
  "widgets": {
   "application/vnd.jupyter.widget-state+json": {
    "0fee9f5b7bdb4129a71ef0cfe9d3b1fa": {
     "model_module": "@jupyter-widgets/controls",
     "model_module_version": "1.5.0",
     "model_name": "ProgressStyleModel",
     "state": {
      "_model_module": "@jupyter-widgets/controls",
      "_model_module_version": "1.5.0",
      "_model_name": "ProgressStyleModel",
      "_view_count": null,
      "_view_module": "@jupyter-widgets/base",
      "_view_module_version": "1.2.0",
      "_view_name": "StyleView",
      "bar_color": null,
      "description_width": ""
     }
    },
    "17b2be81159e41f1a5c6bb966516572e": {
     "model_module": "@jupyter-widgets/base",
     "model_module_version": "1.2.0",
     "model_name": "LayoutModel",
     "state": {
      "_model_module": "@jupyter-widgets/base",
      "_model_module_version": "1.2.0",
      "_model_name": "LayoutModel",
      "_view_count": null,
      "_view_module": "@jupyter-widgets/base",
      "_view_module_version": "1.2.0",
      "_view_name": "LayoutView",
      "align_content": null,
      "align_items": null,
      "align_self": null,
      "border": null,
      "bottom": null,
      "display": null,
      "flex": null,
      "flex_flow": null,
      "grid_area": null,
      "grid_auto_columns": null,
      "grid_auto_flow": null,
      "grid_auto_rows": null,
      "grid_column": null,
      "grid_gap": null,
      "grid_row": null,
      "grid_template_areas": null,
      "grid_template_columns": null,
      "grid_template_rows": null,
      "height": null,
      "justify_content": null,
      "justify_items": null,
      "left": null,
      "margin": null,
      "max_height": null,
      "max_width": null,
      "min_height": null,
      "min_width": null,
      "object_fit": null,
      "object_position": null,
      "order": null,
      "overflow": null,
      "overflow_x": null,
      "overflow_y": null,
      "padding": null,
      "right": null,
      "top": null,
      "visibility": null,
      "width": null
     }
    },
    "18b20091dbf64b129824a8fb3266e3c0": {
     "model_module": "@jupyter-widgets/controls",
     "model_module_version": "1.5.0",
     "model_name": "DescriptionStyleModel",
     "state": {
      "_model_module": "@jupyter-widgets/controls",
      "_model_module_version": "1.5.0",
      "_model_name": "DescriptionStyleModel",
      "_view_count": null,
      "_view_module": "@jupyter-widgets/base",
      "_view_module_version": "1.2.0",
      "_view_name": "StyleView",
      "description_width": ""
     }
    },
    "22bb21a6c57a413fb7374efe31349e6e": {
     "model_module": "@jupyter-widgets/base",
     "model_module_version": "1.2.0",
     "model_name": "LayoutModel",
     "state": {
      "_model_module": "@jupyter-widgets/base",
      "_model_module_version": "1.2.0",
      "_model_name": "LayoutModel",
      "_view_count": null,
      "_view_module": "@jupyter-widgets/base",
      "_view_module_version": "1.2.0",
      "_view_name": "LayoutView",
      "align_content": null,
      "align_items": null,
      "align_self": null,
      "border": null,
      "bottom": null,
      "display": null,
      "flex": null,
      "flex_flow": null,
      "grid_area": null,
      "grid_auto_columns": null,
      "grid_auto_flow": null,
      "grid_auto_rows": null,
      "grid_column": null,
      "grid_gap": null,
      "grid_row": null,
      "grid_template_areas": null,
      "grid_template_columns": null,
      "grid_template_rows": null,
      "height": null,
      "justify_content": null,
      "justify_items": null,
      "left": null,
      "margin": null,
      "max_height": null,
      "max_width": null,
      "min_height": null,
      "min_width": null,
      "object_fit": null,
      "object_position": null,
      "order": null,
      "overflow": null,
      "overflow_x": null,
      "overflow_y": null,
      "padding": null,
      "right": null,
      "top": null,
      "visibility": null,
      "width": null
     }
    },
    "7d238166caf64537ad9aa2040dcdc1ec": {
     "model_module": "@jupyter-widgets/controls",
     "model_module_version": "1.5.0",
     "model_name": "DescriptionStyleModel",
     "state": {
      "_model_module": "@jupyter-widgets/controls",
      "_model_module_version": "1.5.0",
      "_model_name": "DescriptionStyleModel",
      "_view_count": null,
      "_view_module": "@jupyter-widgets/base",
      "_view_module_version": "1.2.0",
      "_view_name": "StyleView",
      "description_width": ""
     }
    },
    "95c5696493db48738dbdc9940acec1d8": {
     "model_module": "@jupyter-widgets/controls",
     "model_module_version": "1.5.0",
     "model_name": "HTMLModel",
     "state": {
      "_dom_classes": [],
      "_model_module": "@jupyter-widgets/controls",
      "_model_module_version": "1.5.0",
      "_model_name": "HTMLModel",
      "_view_count": null,
      "_view_module": "@jupyter-widgets/controls",
      "_view_module_version": "1.5.0",
      "_view_name": "HTMLView",
      "description": "",
      "description_tooltip": null,
      "layout": "IPY_MODEL_22bb21a6c57a413fb7374efe31349e6e",
      "placeholder": "​",
      "style": "IPY_MODEL_18b20091dbf64b129824a8fb3266e3c0",
      "value": "100%"
     }
    },
    "9bad0d6a00c14229b0d776a2cfe15090": {
     "model_module": "@jupyter-widgets/base",
     "model_module_version": "1.2.0",
     "model_name": "LayoutModel",
     "state": {
      "_model_module": "@jupyter-widgets/base",
      "_model_module_version": "1.2.0",
      "_model_name": "LayoutModel",
      "_view_count": null,
      "_view_module": "@jupyter-widgets/base",
      "_view_module_version": "1.2.0",
      "_view_name": "LayoutView",
      "align_content": null,
      "align_items": null,
      "align_self": null,
      "border": null,
      "bottom": null,
      "display": null,
      "flex": null,
      "flex_flow": null,
      "grid_area": null,
      "grid_auto_columns": null,
      "grid_auto_flow": null,
      "grid_auto_rows": null,
      "grid_column": null,
      "grid_gap": null,
      "grid_row": null,
      "grid_template_areas": null,
      "grid_template_columns": null,
      "grid_template_rows": null,
      "height": null,
      "justify_content": null,
      "justify_items": null,
      "left": null,
      "margin": null,
      "max_height": null,
      "max_width": null,
      "min_height": null,
      "min_width": null,
      "object_fit": null,
      "object_position": null,
      "order": null,
      "overflow": null,
      "overflow_x": null,
      "overflow_y": null,
      "padding": null,
      "right": null,
      "top": null,
      "visibility": null,
      "width": null
     }
    },
    "aa9da821ba0c42b5b051355e50e691f0": {
     "model_module": "@jupyter-widgets/controls",
     "model_module_version": "1.5.0",
     "model_name": "HBoxModel",
     "state": {
      "_dom_classes": [],
      "_model_module": "@jupyter-widgets/controls",
      "_model_module_version": "1.5.0",
      "_model_name": "HBoxModel",
      "_view_count": null,
      "_view_module": "@jupyter-widgets/controls",
      "_view_module_version": "1.5.0",
      "_view_name": "HBoxView",
      "box_style": "",
      "children": [
       "IPY_MODEL_95c5696493db48738dbdc9940acec1d8",
       "IPY_MODEL_fe515a1f743f49d0b251b43919d52a8e",
       "IPY_MODEL_f4f339c969fd4e21bc683ecb2567897b"
      ],
      "layout": "IPY_MODEL_17b2be81159e41f1a5c6bb966516572e"
     }
    },
    "cd991379661b4b4ab405bf66f75c6834": {
     "model_module": "@jupyter-widgets/base",
     "model_module_version": "1.2.0",
     "model_name": "LayoutModel",
     "state": {
      "_model_module": "@jupyter-widgets/base",
      "_model_module_version": "1.2.0",
      "_model_name": "LayoutModel",
      "_view_count": null,
      "_view_module": "@jupyter-widgets/base",
      "_view_module_version": "1.2.0",
      "_view_name": "LayoutView",
      "align_content": null,
      "align_items": null,
      "align_self": null,
      "border": null,
      "bottom": null,
      "display": null,
      "flex": null,
      "flex_flow": null,
      "grid_area": null,
      "grid_auto_columns": null,
      "grid_auto_flow": null,
      "grid_auto_rows": null,
      "grid_column": null,
      "grid_gap": null,
      "grid_row": null,
      "grid_template_areas": null,
      "grid_template_columns": null,
      "grid_template_rows": null,
      "height": null,
      "justify_content": null,
      "justify_items": null,
      "left": null,
      "margin": null,
      "max_height": null,
      "max_width": null,
      "min_height": null,
      "min_width": null,
      "object_fit": null,
      "object_position": null,
      "order": null,
      "overflow": null,
      "overflow_x": null,
      "overflow_y": null,
      "padding": null,
      "right": null,
      "top": null,
      "visibility": null,
      "width": null
     }
    },
    "f4f339c969fd4e21bc683ecb2567897b": {
     "model_module": "@jupyter-widgets/controls",
     "model_module_version": "1.5.0",
     "model_name": "HTMLModel",
     "state": {
      "_dom_classes": [],
      "_model_module": "@jupyter-widgets/controls",
      "_model_module_version": "1.5.0",
      "_model_name": "HTMLModel",
      "_view_count": null,
      "_view_module": "@jupyter-widgets/controls",
      "_view_module_version": "1.5.0",
      "_view_name": "HTMLView",
      "description": "",
      "description_tooltip": null,
      "layout": "IPY_MODEL_cd991379661b4b4ab405bf66f75c6834",
      "placeholder": "​",
      "style": "IPY_MODEL_7d238166caf64537ad9aa2040dcdc1ec",
      "value": " 170498071/170498071 [00:13&lt;00:00, 13339884.37it/s]"
     }
    },
    "fe515a1f743f49d0b251b43919d52a8e": {
     "model_module": "@jupyter-widgets/controls",
     "model_module_version": "1.5.0",
     "model_name": "FloatProgressModel",
     "state": {
      "_dom_classes": [],
      "_model_module": "@jupyter-widgets/controls",
      "_model_module_version": "1.5.0",
      "_model_name": "FloatProgressModel",
      "_view_count": null,
      "_view_module": "@jupyter-widgets/controls",
      "_view_module_version": "1.5.0",
      "_view_name": "ProgressView",
      "bar_style": "success",
      "description": "",
      "description_tooltip": null,
      "layout": "IPY_MODEL_9bad0d6a00c14229b0d776a2cfe15090",
      "max": 170498071,
      "min": 0,
      "orientation": "horizontal",
      "style": "IPY_MODEL_0fee9f5b7bdb4129a71ef0cfe9d3b1fa",
      "value": 170498071
     }
    }
   }
  }
 },
 "nbformat": 4,
 "nbformat_minor": 1
}
